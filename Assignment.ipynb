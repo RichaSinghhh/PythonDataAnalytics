{
 "cells": [
  {
   "cell_type": "markdown",
   "metadata": {},
   "source": [
    "# **Assignment**"
   ]
  },
  {
   "cell_type": "code",
   "execution_count": null,
   "metadata": {},
   "outputs": [
    {
     "name": "stdout",
     "output_type": "stream",
     "text": [
      "True\n"
     ]
    }
   ],
   "source": [
    "x=4\n",
    "y=5\n",
    "z=x<y\n",
    "print(z)"
   ]
  },
  {
   "cell_type": "code",
   "execution_count": null,
   "metadata": {},
   "outputs": [
    {
     "name": "stdout",
     "output_type": "stream",
     "text": [
      "helloworld\n"
     ]
    }
   ],
   "source": [
    "x=\"hello\"\n",
    "y=\"world\"\n",
    "z=x+y\n",
    "print(z)"
   ]
  },
  {
   "cell_type": "code",
   "execution_count": null,
   "metadata": {},
   "outputs": [
    {
     "name": "stdout",
     "output_type": "stream",
     "text": [
      "6is not in the list\n"
     ]
    }
   ],
   "source": [
    "my_list=[1,2,3,4,5]\n",
    "value=6\n",
    "\n",
    "if value not in my_list:\n",
    "    print(f\"{value}is not in the list\")\n",
    "else:\n",
    "    print(f\"{value}is in the list\")\n"
   ]
  },
  {
   "cell_type": "code",
   "execution_count": 7,
   "metadata": {},
   "outputs": [
    {
     "name": "stdout",
     "output_type": "stream",
     "text": [
      "5 <class 'int'>\n",
      "5.5 <class 'float'>\n",
      "hello <class 'str'>\n",
      "[1, 2, 3] <class 'list'>\n",
      "{'name': 'Richa', 'age': 22} <class 'dict'>\n"
     ]
    }
   ],
   "source": [
    "a=5\n",
    "print(a,type(a))\n",
    "a=5.5\n",
    "print(a,type(a))\n",
    "a=\"hello\"\n",
    "print(a,type(a))\n",
    "a=[1,2,3]\n",
    "print(a,type(a))\n",
    "a={\"name\":\"Richa\",\"age\":22}\n",
    "print(a,type(a))"
   ]
  },
  {
   "cell_type": "code",
   "execution_count": 12,
   "metadata": {},
   "outputs": [
    {
     "name": "stdout",
     "output_type": "stream",
     "text": [
      "the cube of29is:24389\n"
     ]
    }
   ],
   "source": [
    "num = 29\n",
    "cube =num **3\n",
    "print(f\"the cube of{num}is:{cube}\")\n"
   ]
  },
  {
   "cell_type": "code",
   "execution_count": 24,
   "metadata": {},
   "outputs": [
    {
     "name": "stdout",
     "output_type": "stream",
     "text": [
      "False\n",
      "True\n",
      "False\n",
      "True\n",
      "True\n",
      "True\n",
      "False\n"
     ]
    }
   ],
   "source": [
    "a= True\n",
    "b= False\n",
    "print(a and b)\n",
    "print(a or b)\n",
    "print(not a)\n",
    "print(not b)\n",
    "print(a and (a or b))\n",
    "print(not(a and b))\n",
    "print(not(a or b))"
   ]
  },
  {
   "cell_type": "code",
   "execution_count": 29,
   "metadata": {},
   "outputs": [
    {
     "name": "stdout",
     "output_type": "stream",
     "text": [
      "True\n",
      "False\n",
      "True\n",
      "False\n"
     ]
    }
   ],
   "source": [
    "a=10\n",
    "b=10\n",
    "print(a is b)\n",
    "print(a is not b)\n",
    "e= None\n",
    "print(e is None)\n",
    "print(e is not None)"
   ]
  },
  {
   "cell_type": "code",
   "execution_count": 30,
   "metadata": {},
   "outputs": [
    {
     "name": "stdout",
     "output_type": "stream",
     "text": [
      "15\n"
     ]
    }
   ],
   "source": [
    "x=5\n",
    "x *=3\n",
    "print (x)"
   ]
  },
  {
   "cell_type": "code",
   "execution_count": 33,
   "metadata": {},
   "outputs": [
    {
     "name": "stdout",
     "output_type": "stream",
     "text": [
      "<class 'int'>\n",
      "<class 'str'>\n",
      "<class 'float'>\n"
     ]
    }
   ],
   "source": [
    "x=5\n",
    "print(type(x))\n",
    "y= \"hello\"\n",
    "print(type(y))\n",
    "z=3.14\n",
    "print(type(z))"
   ]
  },
  {
   "cell_type": "markdown",
   "metadata": {},
   "source": [
    "## **list is ordered and mutable data type**\n",
    "- list is mutable while tuple is immutable"
   ]
  },
  {
   "cell_type": "markdown",
   "metadata": {},
   "source": [
    "## **set and dictionary keys cannot store duplicate value.**"
   ]
  },
  {
   "cell_type": "code",
   "execution_count": 3,
   "metadata": {},
   "outputs": [
    {
     "name": "stdout",
     "output_type": "stream",
     "text": [
      "number is negative\n"
     ]
    }
   ],
   "source": [
    "a=int(input(\"enter a number\"))\n",
    "if a<0:\n",
    "    print('number is negative')\n",
    "if a>0:\n",
    "    print('number is positive')\n"
   ]
  },
  {
   "cell_type": "code",
   "execution_count": 2,
   "metadata": {},
   "outputs": [
    {
     "name": "stdout",
     "output_type": "stream",
     "text": [
      "positive number\n"
     ]
    }
   ],
   "source": [
    "a = int(input(\"enter number\"))\n",
    "if a > 0:\n",
    "    print(\"positive number\")\n",
    "else:\n",
    "    print(\"negative number\")"
   ]
  },
  {
   "cell_type": "code",
   "execution_count": 9,
   "metadata": {},
   "outputs": [
    {
     "name": "stdout",
     "output_type": "stream",
     "text": [
      "its a vowel\n"
     ]
    }
   ],
   "source": [
    "a= input(\"enter a no\")\n",
    "if (a ==\"a\" or a== \"e\"or a== \"i\"or a==\"o\"or a== \"u\"):\n",
    "    print(\"its a vowel\")\n",
    "else:\n",
    "    print(\"its not a vowel\")"
   ]
  },
  {
   "cell_type": "code",
   "execution_count": 10,
   "metadata": {},
   "outputs": [
    {
     "name": "stdout",
     "output_type": "stream",
     "text": [
      "c is greatest\n"
     ]
    }
   ],
   "source": [
    "a = 6\n",
    "b = 9\n",
    "c = 12\n",
    "if (a>b and a>c):\n",
    "    print(\"a is greatest\")\n",
    "elif (b>a and b>c):\n",
    "    print(\"b is greatest\")\n",
    "else:\n",
    "    print(\"c is greatest\")"
   ]
  },
  {
   "cell_type": "markdown",
   "metadata": {},
   "source": [
    "## **accept any city from the user and display monument of that city**\n",
    "- a= Delhi- Red Fort\n",
    "- b= Agra- Taj Mahal\n",
    "- c= jaipur- Jal Mahal\n"
   ]
  },
  {
   "cell_type": "code",
   "execution_count": 3,
   "metadata": {},
   "outputs": [
    {
     "name": "stdout",
     "output_type": "stream",
     "text": [
      "Jal Mahal\n"
     ]
    }
   ],
   "source": [
    "city = input(\"Enter a city\")\n",
    "if (city == \"Delhi\"):\n",
    "    print(\"Red Fort\")\n",
    "elif (city == \"Agra\"):\n",
    "    print(\"Taj Mahal\")\n",
    "elif (city == \"jaipur\"):\n",
    "    print(\"Jal Mahal\")\n",
    "else:\n",
    "    print(\"Display a city\")\n"
   ]
  },
  {
   "cell_type": "markdown",
   "metadata": {},
   "source": [
    "## **Wap to check whether a number is divisible by 2 or 3 both or not**\n"
   ]
  },
  {
   "cell_type": "code",
   "execution_count": 3,
   "metadata": {},
   "outputs": [
    {
     "name": "stdout",
     "output_type": "stream",
     "text": [
      "divisible by 2 or 3\n"
     ]
    }
   ],
   "source": [
    "n= int(input(\"enter a number:\"))\n",
    "if (n%2 == 0 or n%3 == 0):\n",
    "    print(\"divisible by 2 or 3\")\n",
    "else:\n",
    "    print(\"not divisible by 2 or 3\")\n",
    "\n"
   ]
  },
  {
   "cell_type": "markdown",
   "metadata": {},
   "source": [
    "## **Accept the following from the user and calculate the percentage of class attended**\n",
    " - a= Total no of working days\n",
    " - b= total no of days absent after calculating percentage show that,if the percentage is less than 75, than student will not be able to sit in exam"
   ]
  },
  {
   "cell_type": "code",
   "execution_count": 2,
   "metadata": {},
   "outputs": [
    {
     "name": "stdout",
     "output_type": "stream",
     "text": [
      "you will be able to sit in exam\n"
     ]
    }
   ],
   "source": [
    "a= int(input(\"enter total no of working days\"))\n",
    "b= int(input(\"enter total no of days absent\"))\n",
    "p = (a - b)/a*100\n",
    "if p < 75:\n",
    "    print(\"you will not be able to sit in exam\")\n",
    "else:\n",
    "    print(\"you will be able to sit in exam\")"
   ]
  },
  {
   "cell_type": "code",
   "execution_count": 6,
   "metadata": {},
   "outputs": [
    {
     "name": "stdout",
     "output_type": "stream",
     "text": [
      "1\n",
      "2\n",
      "3\n",
      "4\n",
      "5\n",
      "6\n",
      "7\n",
      "8\n",
      "9\n",
      "10\n"
     ]
    }
   ],
   "source": [
    "#1-print first 10 natural numbers using for loop.\n",
    "for b in range (1,11):\n",
    "    print(b)\n",
    "\n",
    "\n"
   ]
  },
  {
   "cell_type": "code",
   "execution_count": 3,
   "metadata": {},
   "outputs": [
    {
     "name": "stdout",
     "output_type": "stream",
     "text": [
      "2\n",
      "4\n",
      "6\n",
      "8\n",
      "10\n",
      "12\n",
      "14\n",
      "16\n",
      "18\n",
      "20\n",
      "22\n",
      "24\n",
      "26\n",
      "28\n",
      "30\n",
      "32\n",
      "34\n",
      "36\n",
      "38\n",
      "40\n",
      "42\n",
      "44\n",
      "46\n",
      "48\n",
      "50\n"
     ]
    }
   ],
   "source": [
    "#2-all even numbers b/w 1 & 50.\n",
    "for a in range(2,51,2):\n",
    "    print(a)\n"
   ]
  },
  {
   "cell_type": "code",
   "execution_count": 1,
   "metadata": {},
   "outputs": [
    {
     "name": "stdout",
     "output_type": "stream",
     "text": [
      "2500\n"
     ]
    }
   ],
   "source": [
    "#3-calculate the sum of all odd numbers b/w 1 to 100.\n",
    "n = 100\n",
    "i = 1\n",
    "sum = 0\n",
    "while i <= n:\n",
    "    sum += i\n",
    "    i = i + 2\n",
    "print(sum)\n",
    "    \n"
   ]
  },
  {
   "cell_type": "code",
   "execution_count": 12,
   "metadata": {},
   "outputs": [
    {
     "name": "stdout",
     "output_type": "stream",
     "text": [
      "23\n",
      "46\n",
      "69\n",
      "92\n",
      "115\n",
      "138\n",
      "161\n",
      "184\n",
      "207\n",
      "230\n"
     ]
    }
   ],
   "source": [
    "#4- print multiplication table of 23.\n",
    "for a in range(1,11):\n",
    "    print(23*a)\n"
   ]
  },
  {
   "cell_type": "code",
   "execution_count": 2,
   "metadata": {},
   "outputs": [
    {
     "name": "stdout",
     "output_type": "stream",
     "text": [
      "23* 1 = 23\n",
      "23* 2 = 46\n",
      "23* 3 = 69\n",
      "23* 4 = 92\n",
      "23* 5 = 115\n",
      "23* 6 = 138\n",
      "23* 7 = 161\n",
      "23* 8 = 184\n",
      "23* 9 = 207\n",
      "23* 10 = 230\n"
     ]
    }
   ],
   "source": [
    "for a in range (1,11):\n",
    "    print(\"23*\",a,\"=\",23*a)"
   ]
  },
  {
   "cell_type": "code",
   "execution_count": 5,
   "metadata": {},
   "outputs": [
    {
     "name": "stdout",
     "output_type": "stream",
     "text": [
      "25\n",
      "50\n",
      "75\n",
      "100\n",
      "125\n",
      "150\n"
     ]
    }
   ],
   "source": [
    "#5- program to display numbers from a list using for loop.\n",
    "list = [25,50,75,100,125,150]\n",
    "for i in list:\n",
    "    print(i)"
   ]
  },
  {
   "cell_type": "code",
   "execution_count": 3,
   "metadata": {},
   "outputs": [
    {
     "name": "stdout",
     "output_type": "stream",
     "text": [
      "factorial = 720\n"
     ]
    }
   ],
   "source": [
    "#1-wap to calculate the factorial of a number using a while loop.\n",
    "n = 6\n",
    "fact = 1\n",
    "i = 1\n",
    "while i <= n:\n",
    "    fact *= i\n",
    "    i += 1\n",
    "print(\"factorial =\", fact)"
   ]
  },
  {
   "cell_type": "code",
   "execution_count": 1,
   "metadata": {},
   "outputs": [
    {
     "name": "stdout",
     "output_type": "stream",
     "text": [
      "factorial = 120\n"
     ]
    }
   ],
   "source": [
    "n = 5\n",
    "fact = 1\n",
    "for i in range (1, n +1):\n",
    "    fact *= i\n",
    "print(\"factorial =\",fact)"
   ]
  },
  {
   "cell_type": "code",
   "execution_count": 12,
   "metadata": {},
   "outputs": [
    {
     "name": "stdout",
     "output_type": "stream",
     "text": [
      "computer number 5\n",
      "your guess number is too high\n"
     ]
    }
   ],
   "source": [
    "#2-create a guessing game where the user has to guess a number b/w 1 & 10. the game should keep asking until the user guesses the correct number\n",
    "using random module\n",
    "import random\n",
    "cnumber = random.randrange(1,10)\n",
    "userinput = int(input(\"enter a number\"))\n",
    "if userinput>cnumber:\n",
    "    print(\"computer number\", cnumber)\n",
    "    print(\"your guess number is too high\")\n",
    "elif cnumber> userinput:\n",
    "    print(\"computer number\",cnumber)\n",
    "    print(\"your guess number is too low\")\n",
    "else:\n",
    "    print(\"computer number\", cnumber)\n",
    "    print(\"your guess number is equal\")\n"
   ]
  },
  {
   "cell_type": "code",
   "execution_count": 5,
   "metadata": {},
   "outputs": [
    {
     "name": "stdout",
     "output_type": "stream",
     "text": [
      "reverse= 987654321\n"
     ]
    }
   ],
   "source": [
    "#3-wap that takes a number as input & reverses it using a while loop.\n",
    "i = int(input(\"enter number\"))\n",
    "rev = 0\n",
    "while (i>0):\n",
    "    rev = (rev*10) +i% 10\n",
    "    i = i//10\n",
    "print(\"reverse=\",rev)\n",
    "\n"
   ]
  },
  {
   "cell_type": "code",
   "execution_count": 9,
   "metadata": {},
   "outputs": [
    {
     "name": "stdout",
     "output_type": "stream",
     "text": [
      "number of digit: 6\n"
     ]
    }
   ],
   "source": [
    "#4-wap to count the number of digits in a number using a while loop.\n",
    "\n",
    "num = 123456\n",
    "count = 0\n",
    "while (num != 0):\n",
    "    num //= 10\n",
    "    count +=1\n",
    "print(\"number of digit:\", count)\n",
    "\n",
    "\n"
   ]
  }
 ],
 "metadata": {
  "kernelspec": {
   "display_name": "Python 3",
   "language": "python",
   "name": "python3"
  },
  "language_info": {
   "codemirror_mode": {
    "name": "ipython",
    "version": 3
   },
   "file_extension": ".py",
   "mimetype": "text/x-python",
   "name": "python",
   "nbconvert_exporter": "python",
   "pygments_lexer": "ipython3",
   "version": "3.12.3"
  }
 },
 "nbformat": 4,
 "nbformat_minor": 2
}
