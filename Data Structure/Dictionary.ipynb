{
 "cells": [
  {
   "cell_type": "markdown",
   "metadata": {},
   "source": [
    "- how to declare dictionary in different ways\n",
    "- how to access key and values of dictionary\n",
    "- how to use loops in dictionary\n",
    "- nested dictionary"
   ]
  },
  {
   "cell_type": "code",
   "execution_count": 50,
   "metadata": {},
   "outputs": [
    {
     "name": "stdout",
     "output_type": "stream",
     "text": [
      "{'name': 'john', 'class': '12th', 'roll_no': 2, 'age': 17}\n"
     ]
    }
   ],
   "source": [
    "student = {\n",
    "    \"name\": \"john\",\n",
    "    \"class\": \"12th\",\n",
    "    \"roll_no\":2,\n",
    "    \"age\": 17\n",
    "    }\n",
    "print(student) # Dictionary Format"
   ]
  },
  {
   "cell_type": "code",
   "execution_count": 51,
   "metadata": {},
   "outputs": [
    {
     "name": "stdout",
     "output_type": "stream",
     "text": [
      "{'lucknow': [25, 30, 35], 'delhi': [30, 35, 40], 'chennai': [24, 23, 22]}\n"
     ]
    }
   ],
   "source": [
    "temp = {\n",
    "    'lucknow': [25,30,35],\n",
    "    'delhi' : [30,35,40],\n",
    "    'chennai' : [24,23,22]\n",
    "}\n",
    "print(temp)"
   ]
  },
  {
   "cell_type": "code",
   "execution_count": 52,
   "metadata": {},
   "outputs": [
    {
     "name": "stdout",
     "output_type": "stream",
     "text": [
      "{'name': 'john', 'age': 17, 'roll_no': 2, 'class_': '12th'}\n"
     ]
    }
   ],
   "source": [
    "info = dict(name = 'john', age = 17, roll_no = 2, class_= '12th')\n",
    "print(info)"
   ]
  },
  {
   "cell_type": "code",
   "execution_count": 53,
   "metadata": {},
   "outputs": [
    {
     "name": "stdout",
     "output_type": "stream",
     "text": [
      "{'name': 'Richa', 'age': 22, 'roll_no': 22, 'class_': '12'}\n"
     ]
    }
   ],
   "source": [
    "info2 = dict (name =input('enter your name'),\n",
    "             age = int(input('enter your age')),\n",
    "             roll_no = int(input('enter your roll no')),\n",
    "             class_=input('enter your class'))\n",
    "print(info2)"
   ]
  },
  {
   "cell_type": "code",
   "execution_count": 54,
   "metadata": {},
   "outputs": [
    {
     "name": "stdout",
     "output_type": "stream",
     "text": [
      "john\n",
      "[25, 30, 35]\n"
     ]
    }
   ],
   "source": [
    "#1st method to access the value of a key\n",
    "print(student['name'])\n",
    "print(temp['lucknow'])"
   ]
  },
  {
   "cell_type": "code",
   "execution_count": 55,
   "metadata": {},
   "outputs": [
    {
     "name": "stdout",
     "output_type": "stream",
     "text": [
      "17\n",
      "22\n"
     ]
    }
   ],
   "source": [
    "#2nd method to access the value of a key\n",
    "print(student.get('age'))\n",
    "print(info2.get('roll_no'))"
   ]
  },
  {
   "cell_type": "code",
   "execution_count": 56,
   "metadata": {},
   "outputs": [
    {
     "name": "stdout",
     "output_type": "stream",
     "text": [
      "{'name': 'john', 'class': '12th', 'roll_no': 2, 'age': 17, 'city': 'lucknow', 'school': 'DPS'}\n"
     ]
    }
   ],
   "source": [
    "#to add items in a dictionary\n",
    "student['city'] = 'lucknow'\n",
    "student ['school'] = 'DPS'\n",
    "print(student)"
   ]
  },
  {
   "cell_type": "code",
   "execution_count": 57,
   "metadata": {},
   "outputs": [
    {
     "name": "stdout",
     "output_type": "stream",
     "text": [
      "{'name': 'john', 'class': '12th', 'roll_no': 2, 'age': 17, 'city': 'lucknow'}\n"
     ]
    }
   ],
   "source": [
    "# to remove items from a dictionary\n",
    "student.pop('school')\n",
    "print(student)"
   ]
  },
  {
   "cell_type": "code",
   "execution_count": 58,
   "metadata": {},
   "outputs": [
    {
     "name": "stdout",
     "output_type": "stream",
     "text": [
      "{'name': 'john', 'class': '12th', 'age': 17, 'city': 'lucknow'}\n"
     ]
    }
   ],
   "source": [
    "#using del method\n",
    "del student ['roll_no']\n",
    "print(student)"
   ]
  },
  {
   "cell_type": "code",
   "execution_count": 59,
   "metadata": {},
   "outputs": [
    {
     "name": "stdout",
     "output_type": "stream",
     "text": [
      "name\n",
      "age\n",
      "roll_no\n",
      "class_\n"
     ]
    }
   ],
   "source": [
    "for k in info:\n",
    "    print(k)"
   ]
  },
  {
   "cell_type": "code",
   "execution_count": 60,
   "metadata": {},
   "outputs": [
    {
     "name": "stdout",
     "output_type": "stream",
     "text": [
      "name: Richa\n",
      "age: 22\n",
      "roll_no: 22\n",
      "class_: 12\n"
     ]
    }
   ],
   "source": [
    "for k,v in info2 .items():\n",
    "    print(f\"{k}: {v}\")"
   ]
  },
  {
   "cell_type": "code",
   "execution_count": 61,
   "metadata": {},
   "outputs": [
    {
     "name": "stdout",
     "output_type": "stream",
     "text": [
      "dict_values(['john', '12th', 17, 'lucknow'])\n",
      "dict_keys(['name', 'class', 'age', 'city'])\n",
      "dict_items([('name', 'john'), ('class', '12th'), ('age', 17), ('city', 'lucknow')])\n"
     ]
    }
   ],
   "source": [
    "print(student.values())\n",
    "print(student.keys())\n",
    "print(student.items())"
   ]
  },
  {
   "cell_type": "code",
   "execution_count": 62,
   "metadata": {},
   "outputs": [
    {
     "name": "stdout",
     "output_type": "stream",
     "text": [
      "{'emp001': {'name': 'john', 'age': 25, 'dept': 'HR', 'salary': 25000}, 'emp002': {'name': 'emma', 'age': 30, 'dept': 'Finance', 'salary': 30000}, 'emp003': {'name': 'linda', 'age': 35, 'dept': 'IT', 'salary': 40000}, 'emp004': {'name': 'david', 'age': 40, 'dept': 'admin', 'salary': 50000}}\n"
     ]
    }
   ],
   "source": [
    "#nested dictionary\n",
    "company = {\n",
    "    'emp001' : {'name': 'john', 'age':25, 'dept': 'HR', 'salary':25000},\n",
    "    'emp002' : {'name' :'emma', 'age':30, 'dept': 'Finance','salary': 30000},\n",
    "    'emp003' : {'name' :'linda', 'age':35, 'dept': 'IT','salary': 40000},\n",
    "    'emp004' : {'name' :'david', 'age':40, 'dept': 'admin','salary': 50000},\n",
    "}\n",
    "print(company)"
   ]
  },
  {
   "cell_type": "code",
   "execution_count": 63,
   "metadata": {},
   "outputs": [],
   "source": [
    "from pprint import pp"
   ]
  },
  {
   "cell_type": "code",
   "execution_count": 64,
   "metadata": {},
   "outputs": [
    {
     "name": "stdout",
     "output_type": "stream",
     "text": [
      "{'emp001': {'name': 'john', 'age': 25, 'dept': 'HR', 'salary': 25000},\n",
      " 'emp002': {'name': 'emma', 'age': 30, 'dept': 'Finance', 'salary': 30000},\n",
      " 'emp003': {'name': 'linda', 'age': 35, 'dept': 'IT', 'salary': 40000},\n",
      " 'emp004': {'name': 'david', 'age': 40, 'dept': 'admin', 'salary': 50000}}\n"
     ]
    }
   ],
   "source": [
    "pp(company)"
   ]
  },
  {
   "cell_type": "code",
   "execution_count": 65,
   "metadata": {},
   "outputs": [
    {
     "name": "stdout",
     "output_type": "stream",
     "text": [
      "{'name': 'emma', 'age': 30, 'dept': 'Finance', 'salary': 30000}\n"
     ]
    }
   ],
   "source": [
    "print(company['emp002'])"
   ]
  },
  {
   "cell_type": "code",
   "execution_count": 66,
   "metadata": {},
   "outputs": [
    {
     "name": "stdout",
     "output_type": "stream",
     "text": [
      "Finance\n"
     ]
    }
   ],
   "source": [
    "print(company['emp002']['dept'])"
   ]
  },
  {
   "cell_type": "code",
   "execution_count": 67,
   "metadata": {},
   "outputs": [
    {
     "name": "stdout",
     "output_type": "stream",
     "text": [
      "40\n"
     ]
    }
   ],
   "source": [
    "print(company['emp004']['age'])"
   ]
  },
  {
   "cell_type": "code",
   "execution_count": 68,
   "metadata": {},
   "outputs": [
    {
     "name": "stdout",
     "output_type": "stream",
     "text": [
      "25\n",
      "40\n"
     ]
    }
   ],
   "source": [
    "#indexing in dictionary\n",
    "print (temp ['lucknow'][0])\n",
    "print(temp['delhi'][2])"
   ]
  },
  {
   "cell_type": "code",
   "execution_count": 69,
   "metadata": {},
   "outputs": [
    {
     "name": "stdout",
     "output_type": "stream",
     "text": [
      "average temperature of delhi is 35.0\n"
     ]
    }
   ],
   "source": [
    "print(\"average temperature of delhi is\", sum(temp['delhi'])/len(temp['delhi']))"
   ]
  }
 ],
 "metadata": {
  "kernelspec": {
   "display_name": "base",
   "language": "python",
   "name": "python3"
  },
  "language_info": {
   "codemirror_mode": {
    "name": "ipython",
    "version": 3
   },
   "file_extension": ".py",
   "mimetype": "text/x-python",
   "name": "python",
   "nbconvert_exporter": "python",
   "pygments_lexer": "ipython3",
   "version": "3.12.3"
  }
 },
 "nbformat": 4,
 "nbformat_minor": 2
}
