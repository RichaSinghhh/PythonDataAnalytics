{
 "cells": [
  {
   "cell_type": "markdown",
   "metadata": {},
   "source": [
    "# **List**"
   ]
  },
  {
   "cell_type": "markdown",
   "metadata": {},
   "source": [
    "# **Indexing**"
   ]
  },
  {
   "cell_type": "code",
   "execution_count": 39,
   "metadata": {},
   "outputs": [
    {
     "name": "stdout",
     "output_type": "stream",
     "text": [
      "['google', 'chrome', 'drive', 'swiggy', 'zomato', 'uber', 'whatsup', 'instagram', 'twitter']\n"
     ]
    }
   ],
   "source": [
    "apps = ['google', 'chrome','drive','swiggy','zomato','uber','whatsup','instagram','twitter']\n",
    "print(apps)"
   ]
  },
  {
   "cell_type": "code",
   "execution_count": 40,
   "metadata": {},
   "outputs": [
    {
     "name": "stdout",
     "output_type": "stream",
     "text": [
      "uber\n",
      "whatsup\n",
      "uber\n"
     ]
    }
   ],
   "source": [
    "print(apps[5])\n",
    "print(apps[6])\n",
    "print(apps[-4]) "
   ]
  },
  {
   "cell_type": "markdown",
   "metadata": {},
   "source": [
    "# **Reverse Indexing**"
   ]
  },
  {
   "cell_type": "code",
   "execution_count": 41,
   "metadata": {},
   "outputs": [
    {
     "name": "stdout",
     "output_type": "stream",
     "text": [
      "uber\n"
     ]
    }
   ],
   "source": [
    "apps = ['google', 'chrome','drive','swiggy','zomato','uber','whatsup','instagram','twitter']\n",
    "print(apps[-4]) "
   ]
  },
  {
   "cell_type": "markdown",
   "metadata": {},
   "source": [
    "# **Slicing**"
   ]
  },
  {
   "cell_type": "code",
   "execution_count": 42,
   "metadata": {},
   "outputs": [
    {
     "name": "stdout",
     "output_type": "stream",
     "text": [
      "['swiggy', 'zomato', 'uber', 'whatsup', 'instagram']\n"
     ]
    }
   ],
   "source": [
    "apps = ['google', 'chrome','drive','swiggy','zomato','uber','whatsup','instagram','twitter']\n",
    "print(apps[3:8])        "
   ]
  },
  {
   "cell_type": "code",
   "execution_count": 1,
   "metadata": {},
   "outputs": [
    {
     "name": "stdout",
     "output_type": "stream",
     "text": [
      "['chrome', 'drive', 'swiggy', 'zomato', 'uber', 'whatsup']\n"
     ]
    }
   ],
   "source": [
    "apps = ['google', 'chrome','drive','swiggy','zomato','uber','whatsup','instagram','twitter']\n",
    "print(apps[1:7])  \n"
   ]
  },
  {
   "cell_type": "code",
   "execution_count": 44,
   "metadata": {},
   "outputs": [
    {
     "name": "stdout",
     "output_type": "stream",
     "text": [
      "['google', 'chrome', 'drive', 'swiggy', 'zomato', 'uber', 'whatsup', 'instagram', 'twitter']\n"
     ]
    }
   ],
   "source": [
    "apps = ['google', 'chrome','drive','swiggy','zomato','uber','whatsup','instagram','twitter']\n",
    "print(apps)  \n"
   ]
  },
  {
   "cell_type": "code",
   "execution_count": 45,
   "metadata": {},
   "outputs": [
    {
     "name": "stdout",
     "output_type": "stream",
     "text": [
      "uber\n",
      "whatsup\n",
      "uber\n"
     ]
    }
   ],
   "source": [
    "print(apps[5])\n",
    "print(apps[6])\n",
    "print(apps[-4])"
   ]
  },
  {
   "cell_type": "code",
   "execution_count": 46,
   "metadata": {},
   "outputs": [
    {
     "data": {
      "text/plain": [
       "9"
      ]
     },
     "execution_count": 46,
     "metadata": {},
     "output_type": "execute_result"
    }
   ],
   "source": [
    "len(apps)"
   ]
  },
  {
   "cell_type": "code",
   "execution_count": 47,
   "metadata": {},
   "outputs": [
    {
     "name": "stdout",
     "output_type": "stream",
     "text": [
      "['swiggy', 'zomato', 'uber', 'whatsup', 'instagram']\n",
      "['swiggy', 'uber', 'instagram']\n",
      "['google', 'chrome', 'drive', 'swiggy', 'zomato', 'uber', 'whatsup', 'instagram']\n",
      "['swiggy', 'zomato', 'uber', 'whatsup', 'instagram', 'twitter']\n",
      "['google', 'chrome', 'drive', 'swiggy', 'zomato', 'uber', 'whatsup', 'instagram', 'twitter']\n"
     ]
    }
   ],
   "source": [
    "apps = ['google', 'chrome','drive','swiggy','zomato','uber','whatsup','instagram','twitter']\n",
    "print(apps[3:8]) \n",
    "print(apps[3:8:2])\n",
    "print(apps[:8]) \n",
    "print(apps[3:])\n",
    "print(apps[:]) # You can print the entire list using this function [:]."
   ]
  },
  {
   "cell_type": "markdown",
   "metadata": {},
   "source": [
    "# **Methods**\n",
    "- append\n",
    "- insert\n",
    "- pop\n",
    "- remove\n",
    "- copy\n",
    "- extend\n",
    "- clear\n",
    "- sort\n"
   ]
  },
  {
   "cell_type": "code",
   "execution_count": 48,
   "metadata": {},
   "outputs": [
    {
     "name": "stdout",
     "output_type": "stream",
     "text": [
      "['google', 'chrome', 'drive', 'swiggy', 'zomato', 'uber', 'whatsup', 'instagram', 'twitter']\n"
     ]
    }
   ],
   "source": [
    "print(apps)"
   ]
  },
  {
   "cell_type": "code",
   "execution_count": 49,
   "metadata": {},
   "outputs": [
    {
     "name": "stdout",
     "output_type": "stream",
     "text": [
      "['google', 'chrome', 'drive', 'swiggy', 'zomato', 'uber', 'whatsup', 'instagram', 'twitter']\n"
     ]
    }
   ],
   "source": [
    "apps2 = apps.copy()\n",
    "print(apps2) # Copy function is used to copy items."
   ]
  },
  {
   "cell_type": "code",
   "execution_count": 50,
   "metadata": {},
   "outputs": [
    {
     "name": "stdout",
     "output_type": "stream",
     "text": [
      "['google', 'chrome', 'drive', 'swiggy', 'zomato', 'uber', 'whatsup', 'instagram', 'twitter', 'snapchat']\n"
     ]
    }
   ],
   "source": [
    "apps.append('snapchat')\n",
    "print(apps) # Append function is used to add an items to the end of a list."
   ]
  },
  {
   "cell_type": "code",
   "execution_count": 51,
   "metadata": {},
   "outputs": [
    {
     "name": "stdout",
     "output_type": "stream",
     "text": [
      "['google', 'chrome', 'drive', 'ola', 'swiggy', 'zomato', 'uber', 'whatsup', 'instagram', 'twitter', 'snapchat']\n"
     ]
    }
   ],
   "source": [
    "apps.insert(3, 'ola')\n",
    "print (apps) # Use the insert function to add items anywhere."
   ]
  },
  {
   "cell_type": "code",
   "execution_count": 52,
   "metadata": {},
   "outputs": [
    {
     "name": "stdout",
     "output_type": "stream",
     "text": [
      "['google', 'chrome', 'drive', 'ola', 'swiggy', 'zomato', 'uber', 'whatsup', 'instagram', 'twitter']\n"
     ]
    }
   ],
   "source": [
    "apps.pop(-1)\n",
    "print(apps) # Use the pop function to delete items by an index."
   ]
  },
  {
   "cell_type": "code",
   "execution_count": 53,
   "metadata": {},
   "outputs": [
    {
     "name": "stdout",
     "output_type": "stream",
     "text": [
      "['chrome', 'drive', 'google', 'instagram', 'ola', 'swiggy', 'twitter', 'uber', 'whatsup', 'zomato']\n"
     ]
    }
   ],
   "source": [
    "apps.sort()\n",
    "print(apps) # Sort function is used to arrange items in sequence."
   ]
  },
  {
   "cell_type": "code",
   "execution_count": 54,
   "metadata": {},
   "outputs": [
    {
     "name": "stdout",
     "output_type": "stream",
     "text": [
      "[1, 2, 3]\n"
     ]
    }
   ],
   "source": [
    "a = [1,2,3]\n",
    "print(a)"
   ]
  },
  {
   "cell_type": "code",
   "execution_count": 65,
   "metadata": {},
   "outputs": [
    {
     "name": "stdout",
     "output_type": "stream",
     "text": [
      "[1, 2, 3, 'chrome', 'drive', 'google', 'instagram', 'ola', 'swiggy', 'twitter', 'uber', 'whatsup', 'zomato', 1, 2, 3, 'chrome', 'drive', 'google', 'instagram', 'ola', 'swiggy', 'twitter', 'uber', 'whatsup', 'zomato', 'google', 'chrome', 'swiggy', 'zomato', 'uber', 'whatsup', 'instagram', 'twitter']\n"
     ]
    }
   ],
   "source": [
    "a.extend(apps) #to add elements of an iterable(such as string,list,tuple,set,etc.)to the end of another list.\n",
    "print(a)"
   ]
  },
  {
   "cell_type": "code",
   "execution_count": 56,
   "metadata": {},
   "outputs": [
    {
     "name": "stdout",
     "output_type": "stream",
     "text": [
      "['chrome', 'drive', 'google', 'instagram', 'ola', 'swiggy', 'twitter', 'uber', 'whatsup', 'zomato', 1, 2, 3, 'chrome', 'drive', 'google', 'instagram', 'ola', 'swiggy', 'twitter', 'uber', 'whatsup', 'zomato']\n"
     ]
    }
   ],
   "source": [
    "apps.extend(a)\n",
    "print(apps)"
   ]
  },
  {
   "cell_type": "code",
   "execution_count": 61,
   "metadata": {},
   "outputs": [
    {
     "name": "stdout",
     "output_type": "stream",
     "text": [
      "[]\n"
     ]
    }
   ],
   "source": [
    "apps2.clear()\n",
    "print(apps2) # Clear function is used to clear all items."
   ]
  },
  {
   "cell_type": "code",
   "execution_count": 62,
   "metadata": {},
   "outputs": [
    {
     "name": "stdout",
     "output_type": "stream",
     "text": [
      "['google', 'chrome', 'drive', 'swiggy', 'zomato', 'uber', 'whatsup', 'instagram', 'twitter']\n"
     ]
    }
   ],
   "source": [
    "apps = ['google', 'chrome','drive','swiggy','zomato','uber','whatsup','instagram','twitter']\n",
    "print(apps)\n"
   ]
  },
  {
   "cell_type": "code",
   "execution_count": 63,
   "metadata": {},
   "outputs": [
    {
     "name": "stdout",
     "output_type": "stream",
     "text": [
      "['google', 'chrome', 'swiggy', 'zomato', 'uber', 'whatsup', 'instagram', 'twitter']\n"
     ]
    }
   ],
   "source": [
    "apps.remove('drive')\n",
    "print(apps) # Use the remove function to delete items by name."
   ]
  }
 ],
 "metadata": {
  "kernelspec": {
   "display_name": "base",
   "language": "python",
   "name": "python3"
  },
  "language_info": {
   "codemirror_mode": {
    "name": "ipython",
    "version": 3
   },
   "file_extension": ".py",
   "mimetype": "text/x-python",
   "name": "python",
   "nbconvert_exporter": "python",
   "pygments_lexer": "ipython3",
   "version": "3.12.3"
  }
 },
 "nbformat": 4,
 "nbformat_minor": 2
}
