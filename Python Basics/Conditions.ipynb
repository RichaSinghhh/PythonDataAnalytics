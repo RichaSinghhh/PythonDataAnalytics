{
 "cells": [
  {
   "cell_type": "markdown",
   "metadata": {},
   "source": [
    "#### Conditional Statement"
   ]
  },
  {
   "cell_type": "markdown",
   "metadata": {},
   "source": [
    "#### if"
   ]
  },
  {
   "cell_type": "code",
   "execution_count": 1,
   "metadata": {},
   "outputs": [
    {
     "name": "stdout",
     "output_type": "stream",
     "text": [
      "4 even no\n"
     ]
    }
   ],
   "source": [
    "a = int(input(\"enter a value\"))\n",
    "if a %2==0:\n",
    "    print(a,\"even no\")\n"
   ]
  },
  {
   "cell_type": "markdown",
   "metadata": {},
   "source": [
    "#### if else"
   ]
  },
  {
   "cell_type": "code",
   "execution_count": 16,
   "metadata": {},
   "outputs": [
    {
     "name": "stdout",
     "output_type": "stream",
     "text": [
      "even\n"
     ]
    }
   ],
   "source": [
    "num = int(input(\"enter a number\"))\n",
    "if num % 2==0:\n",
    "    print(\"even\")\n",
    "else:\n",
    "    print(\"odd\")"
   ]
  },
  {
   "cell_type": "code",
   "execution_count": 17,
   "metadata": {},
   "outputs": [
    {
     "name": "stdout",
     "output_type": "stream",
     "text": [
      "you are eligible\n"
     ]
    }
   ],
   "source": [
    "# WAP to check if a user is eligible to vote\n",
    "age = int (input(\"enetr your age\"))\n",
    "if age >= 18:\n",
    "    print(\"you are eligible\")\n",
    "else:\n",
    "    print(\"you are not eligible\")\n"
   ]
  },
  {
   "cell_type": "code",
   "execution_count": 18,
   "metadata": {},
   "outputs": [
    {
     "name": "stdout",
     "output_type": "stream",
     "text": [
      "Divisible by 3 and 5\n"
     ]
    }
   ],
   "source": [
    "num1 = int(input(\"enter number\"))\n",
    "if num1%3 == 0 and num1%5 == 0:\n",
    "    print(\"Divisible by 3 and 5\")\n",
    "else:\n",
    "    print (\"not divisible by 3 and 5\")"
   ]
  },
  {
   "cell_type": "code",
   "execution_count": 19,
   "metadata": {},
   "outputs": [
    {
     "name": "stdout",
     "output_type": "stream",
     "text": [
      "positive\n"
     ]
    }
   ],
   "source": [
    "num2 = int(input(\"enetr number\"))\n",
    "if num2> 0:\n",
    "    print(\"positive\")\n",
    "elif num2<0:\n",
    "    print(\"negative\")\n",
    "else:\n",
    "    print(\"zero\")"
   ]
  },
  {
   "cell_type": "code",
   "execution_count": 20,
   "metadata": {},
   "outputs": [
    {
     "name": "stdout",
     "output_type": "stream",
     "text": [
      "Grade A\n"
     ]
    }
   ],
   "source": [
    "# Ques- 90-70, 50-70, less than 30\n",
    "marks = int(input(\"Enetr Number\"))\n",
    "if marks <= 100 and marks >= 90:\n",
    "    print(\"Grade A\")\n",
    "elif marks <= 90 and marks >= 70:\n",
    "    print(\"Grade B\")\n",
    "elif marks <=70 and marks >= 50:\n",
    "    print(\"Grade C\")\n",
    "elif marks <= 50 and marks >= 30:\n",
    "    print(\"Grade D\")\n",
    "elif marks <= 30:\n",
    "    print(\"Fail\")\n",
    "else:\n",
    "    print(\"Invalid Data\")\n",
    "\n"
   ]
  },
  {
   "cell_type": "code",
   "execution_count": 21,
   "metadata": {},
   "outputs": [
    {
     "name": "stdout",
     "output_type": "stream",
     "text": [
      "Grade of the student: A\n"
     ]
    }
   ],
   "source": [
    "marks = int(input(\"Enter student marks: \"))\n",
    "if (marks >= 90):\n",
    "    Grade = \"A\"\n",
    "elif (marks >= 70 and marks <= 90 ):\n",
    "    Grade = \"B\"\n",
    "elif (marks >= 50 and marks <= 70):\n",
    "    Grade = \"C\"\n",
    "elif (marks >= 30 and marks <= 50):\n",
    "    Grade = \"D\"\n",
    "else:\n",
    "    \"Fail\"\n",
    "print(\"Grade of the student:\", Grade)\n"
   ]
  },
  {
   "cell_type": "markdown",
   "metadata": {},
   "source": [
    "#### if and if , elif"
   ]
  },
  {
   "cell_type": "code",
   "execution_count": 22,
   "metadata": {},
   "outputs": [
    {
     "name": "stdout",
     "output_type": "stream",
     "text": [
      "A\n",
      "B\n",
      "C\n",
      "D\n",
      "Fail\n"
     ]
    }
   ],
   "source": [
    "#Differnce b/w if and if, elif\n",
    "marks = 95\n",
    "if marks >= 90:\n",
    "    print('A')\n",
    "if marks >= 80:\n",
    "    print('B')\n",
    "if marks >= 70:\n",
    "    print('C')\n",
    "if marks >= 60:\n",
    "    print('D')\n",
    "if marks >= 50:\n",
    "    print('Fail')\n",
    "\n"
   ]
  },
  {
   "cell_type": "code",
   "execution_count": 23,
   "metadata": {},
   "outputs": [
    {
     "name": "stdout",
     "output_type": "stream",
     "text": [
      "A\n"
     ]
    }
   ],
   "source": [
    "marks = 95\n",
    "if marks >= 90:\n",
    "    print('A')\n",
    "elif marks >= 80:\n",
    "    print('B')\n",
    "elif  marks >= 70:\n",
    "    print('C')\n",
    "elif marks >= 60:\n",
    "    print('D')\n",
    "elif marks >= 50:\n",
    "    print('Fail')\n",
    "else:\n",
    "    print('Invalid Marks')\n"
   ]
  },
  {
   "cell_type": "code",
   "execution_count": 24,
   "metadata": {},
   "outputs": [
    {
     "name": "stdout",
     "output_type": "stream",
     "text": [
      "Scalene Triagle\n"
     ]
    }
   ],
   "source": [
    "#WAP to check the type of Triangle.\n",
    "a = 90\n",
    "b = 65\n",
    "c = 60\n",
    "if a == b and b == c and a == c:\n",
    "    print(\"Equilateral\")\n",
    "elif a == b or b == c or a == c:\n",
    "    print(\"Isoceles Triagale\") \n",
    "else:\n",
    "    print(\"Scalene Triagle\")\n"
   ]
  },
  {
   "cell_type": "code",
   "execution_count": 2,
   "metadata": {},
   "outputs": [
    {
     "name": "stdout",
     "output_type": "stream",
     "text": [
      "first division\n"
     ]
    }
   ],
   "source": [
    "per = int(input(\"enter a value:\"))\n",
    "if per >= 60:\n",
    "    print(\"first division\")\n",
    "elif per >= 48:\n",
    "    print(\"second division\")\n",
    "elif per >= 35:\n",
    "    print(\"third division\")\n",
    "else:\n",
    "    print(\"fail\")"
   ]
  },
  {
   "cell_type": "code",
   "execution_count": 25,
   "metadata": {},
   "outputs": [
    {
     "name": "stdout",
     "output_type": "stream",
     "text": [
      "Vowels\n"
     ]
    }
   ],
   "source": [
    "#WAP check alphabet is vowel or consonant.\n",
    "a = input(\"Enter a Alphabet\")\n",
    "if a == \"a\" or a == \"e\"or a == \"i\"or a == \"o\" or a == \"u\":\n",
    "      print (\"Vowels\")\n",
    "else:\n",
    "      print(\"Consonant\")\n"
   ]
  },
  {
   "cell_type": "markdown",
   "metadata": {},
   "source": [
    "#### Nested if"
   ]
  },
  {
   "cell_type": "code",
   "execution_count": 26,
   "metadata": {},
   "outputs": [
    {
     "name": "stdout",
     "output_type": "stream",
     "text": [
      "a is not grater than b\n"
     ]
    }
   ],
   "source": [
    "#Nested if\n",
    "a = 10\n",
    "b = 20\n",
    "c = 30\n",
    "if a > b :\n",
    "    if a > c:\n",
    "        print(\"a is greatest\")\n",
    "    else:\n",
    "        print(\"a is not grater than c\")\n",
    "else:\n",
    "    print(\"a is not grater than b\")"
   ]
  },
  {
   "cell_type": "code",
   "execution_count": 27,
   "metadata": {},
   "outputs": [
    {
     "name": "stdout",
     "output_type": "stream",
     "text": [
      "Registration Successful\n"
     ]
    }
   ],
   "source": [
    "username = input(\"Enter username:\")\n",
    "email = input(\"Enter email:\")\n",
    "password = input(\"Enter Password:\")\n",
    "cpass = input(\"Enter confirm\")\n",
    "if len (username)>5 and len (username)<=15:\n",
    "    if '@' in email and len (email)<= 20:\n",
    "        if len(password)>=8 and len(password)<= 15:\n",
    "            if password == cpass:\n",
    "                print(\"Registration Successful\")\n",
    "            else:\n",
    "                print(\"Password mismatch\")\n",
    "        else:\n",
    "            print(\"Invalid Password\")\n",
    "    else:\n",
    "        print(\"Invalid Email\")\n",
    "else:\n",
    "    print(\"Invalid Username\")\n"
   ]
  }
 ],
 "metadata": {
  "kernelspec": {
   "display_name": "base",
   "language": "python",
   "name": "python3"
  },
  "language_info": {
   "codemirror_mode": {
    "name": "ipython",
    "version": 3
   },
   "file_extension": ".py",
   "mimetype": "text/x-python",
   "name": "python",
   "nbconvert_exporter": "python",
   "pygments_lexer": "ipython3",
   "version": "3.12.3"
  }
 },
 "nbformat": 4,
 "nbformat_minor": 2
}
