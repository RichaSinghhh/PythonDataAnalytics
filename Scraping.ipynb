{
 "cells": [
  {
   "cell_type": "markdown",
   "metadata": {},
   "source": [
    "## dputils"
   ]
  },
  {
   "cell_type": "code",
   "execution_count": 1,
   "metadata": {},
   "outputs": [],
   "source": [
    "from dputils.scrape import Scraper, Tag\n",
    "from pprint import pp"
   ]
  },
  {
   "cell_type": "markdown",
   "metadata": {},
   "source": [
    "- Tag class helps to decide what to collect from the page\n",
    "- Scraper executes the scraping process"
   ]
  },
  {
   "cell_type": "code",
   "execution_count": 2,
   "metadata": {},
   "outputs": [],
   "source": [
    "url = 'https://www.flipkart.com/search?q=mobile&otracker=search&otracker1=search&marketplace=FLIPKART&as-show=on&as=off'"
   ]
  },
  {
   "cell_type": "code",
   "execution_count": 3,
   "metadata": {},
   "outputs": [
    {
     "data": {
      "text/plain": [
       "<bound method Scraper.get_repeating_date_from_page of <dputils.scrape.Scraper object at 0x000001C7300D0BC0>>"
      ]
     },
     "execution_count": 3,
     "metadata": {},
     "output_type": "execute_result"
    }
   ],
   "source": [
    "scraper = Scraper(url)\n",
    "scraper.get_repeating_date_from_page"
   ]
  },
  {
   "cell_type": "code",
   "execution_count": 4,
   "metadata": {},
   "outputs": [],
   "source": [
    "result = scraper.get_repeating_date_from_page(\n",
    "    target = Tag('div', cls='DOjaWF gdgoEp'),\n",
    "    items = Tag ('div', cls='_75nlfW'),\n",
    "    title = Tag ('div', cls='KzDlHZ'),\n",
    "    price = Tag ('div', cls='Nx9bqj _4b5DiR')\n",
    ")"
   ]
  },
  {
   "cell_type": "code",
   "execution_count": 5,
   "metadata": {},
   "outputs": [
    {
     "data": {
      "text/plain": [
       "[{'title': 'Nothing Phone (2a) 5G (Special Edition, 256 GB)',\n",
       "  'price': '₹26,999'},\n",
       " {'title': 'OPPO K12x 5G with 45W SUPERVOOC Charger In-The-Box (Breeze Blue, 128 GB)',\n",
       "  'price': '₹12,999'},\n",
       " {'title': 'REDMI 13C (Stardust Black, 128 GB)', 'price': '₹7,199'},\n",
       " {'title': 'Motorola Edge 50 Fusion (Marshmallow Blue, 256 GB)',\n",
       "  'price': '₹23,999'},\n",
       " {'title': 'CMF by Nothing Phone 1 (Black, 128 GB)', 'price': '₹14,999'},\n",
       " {'title': 'vivo V30 Pro 5G (Andaman Blue, 256 GB)', 'price': '₹38,999'},\n",
       " {'title': 'Apple iPhone 15 (Blue, 128 GB)', 'price': '₹58,999'},\n",
       " {'title': 'SAMSUNG Galaxy A14 5G (Dark Red, 128 GB)', 'price': '₹10,999'},\n",
       " {'title': 'Motorola G85 5G (Viva Magenta, 128 GB)', 'price': '₹16,999'},\n",
       " {'title': 'REDMI 13C (Starfrost White, 128 GB)', 'price': '₹7,199'},\n",
       " {'title': 'Motorola G85 5G (Cobalt Blue, 128 GB)', 'price': '₹16,999'},\n",
       " {'title': 'Motorola g45 5G (Brilliant Blue, 128 GB)', 'price': '₹11,999'},\n",
       " {'title': 'vivo T3 Lite 5G (Vibrant Green, 128 GB)', 'price': '₹10,499'},\n",
       " {'title': 'vivo T3 Lite 5G (Majestic Black, 128 GB)', 'price': '₹10,499'},\n",
       " {'title': 'vivo T3 Lite 5G (Vibrant Green, 128 GB)', 'price': '₹11,499'},\n",
       " {'title': 'vivo T3 Lite 5G (Majestic Black, 128 GB)', 'price': '₹11,499'},\n",
       " {'title': 'vivo T3x 5G (Celestial Green, 128 GB)', 'price': '₹12,999'},\n",
       " {'title': 'vivo T3x 5G (Crimson Bliss, 128 GB)', 'price': '₹14,499'},\n",
       " {'title': 'Motorola Edge 50 Fusion (Marshmallow Blue, 128 GB)',\n",
       "  'price': '₹21,999'},\n",
       " {'title': 'vivo T3x 5G (Crimson Bliss, 128 GB)', 'price': '₹12,999'},\n",
       " {'title': 'vivo T3x 5G (Sapphire Blue, 128 GB)', 'price': '₹12,999'},\n",
       " {'title': 'vivo T3x 5G (Sapphire Blue, 128 GB)', 'price': '₹14,499'},\n",
       " {'title': 'vivo T3x 5G (Celestial Green, 128 GB)', 'price': '₹14,499'},\n",
       " {'title': 'Motorola G85 5G (Cobalt Blue, 256 GB)', 'price': '₹18,999'}]"
      ]
     },
     "execution_count": 5,
     "metadata": {},
     "output_type": "execute_result"
    }
   ],
   "source": [
    "result"
   ]
  },
  {
   "cell_type": "code",
   "execution_count": 6,
   "metadata": {},
   "outputs": [],
   "source": [
    "import pandas as pd"
   ]
  },
  {
   "cell_type": "code",
   "execution_count": 7,
   "metadata": {},
   "outputs": [
    {
     "data": {
      "text/html": [
       "<div>\n",
       "<style scoped>\n",
       "    .dataframe tbody tr th:only-of-type {\n",
       "        vertical-align: middle;\n",
       "    }\n",
       "\n",
       "    .dataframe tbody tr th {\n",
       "        vertical-align: top;\n",
       "    }\n",
       "\n",
       "    .dataframe thead th {\n",
       "        text-align: right;\n",
       "    }\n",
       "</style>\n",
       "<table border=\"1\" class=\"dataframe\">\n",
       "  <thead>\n",
       "    <tr style=\"text-align: right;\">\n",
       "      <th></th>\n",
       "      <th>title</th>\n",
       "      <th>price</th>\n",
       "    </tr>\n",
       "  </thead>\n",
       "  <tbody>\n",
       "    <tr>\n",
       "      <th>0</th>\n",
       "      <td>Nothing Phone (2a) 5G (Special Edition, 256 GB)</td>\n",
       "      <td>₹26,999</td>\n",
       "    </tr>\n",
       "    <tr>\n",
       "      <th>1</th>\n",
       "      <td>OPPO K12x 5G with 45W SUPERVOOC Charger In-The...</td>\n",
       "      <td>₹12,999</td>\n",
       "    </tr>\n",
       "    <tr>\n",
       "      <th>2</th>\n",
       "      <td>REDMI 13C (Stardust Black, 128 GB)</td>\n",
       "      <td>₹7,199</td>\n",
       "    </tr>\n",
       "    <tr>\n",
       "      <th>3</th>\n",
       "      <td>Motorola Edge 50 Fusion (Marshmallow Blue, 256...</td>\n",
       "      <td>₹23,999</td>\n",
       "    </tr>\n",
       "    <tr>\n",
       "      <th>4</th>\n",
       "      <td>CMF by Nothing Phone 1 (Black, 128 GB)</td>\n",
       "      <td>₹14,999</td>\n",
       "    </tr>\n",
       "    <tr>\n",
       "      <th>5</th>\n",
       "      <td>vivo V30 Pro 5G (Andaman Blue, 256 GB)</td>\n",
       "      <td>₹38,999</td>\n",
       "    </tr>\n",
       "    <tr>\n",
       "      <th>6</th>\n",
       "      <td>Apple iPhone 15 (Blue, 128 GB)</td>\n",
       "      <td>₹58,999</td>\n",
       "    </tr>\n",
       "    <tr>\n",
       "      <th>7</th>\n",
       "      <td>SAMSUNG Galaxy A14 5G (Dark Red, 128 GB)</td>\n",
       "      <td>₹10,999</td>\n",
       "    </tr>\n",
       "    <tr>\n",
       "      <th>8</th>\n",
       "      <td>Motorola G85 5G (Viva Magenta, 128 GB)</td>\n",
       "      <td>₹16,999</td>\n",
       "    </tr>\n",
       "    <tr>\n",
       "      <th>9</th>\n",
       "      <td>REDMI 13C (Starfrost White, 128 GB)</td>\n",
       "      <td>₹7,199</td>\n",
       "    </tr>\n",
       "    <tr>\n",
       "      <th>10</th>\n",
       "      <td>Motorola G85 5G (Cobalt Blue, 128 GB)</td>\n",
       "      <td>₹16,999</td>\n",
       "    </tr>\n",
       "    <tr>\n",
       "      <th>11</th>\n",
       "      <td>Motorola g45 5G (Brilliant Blue, 128 GB)</td>\n",
       "      <td>₹11,999</td>\n",
       "    </tr>\n",
       "    <tr>\n",
       "      <th>12</th>\n",
       "      <td>vivo T3 Lite 5G (Vibrant Green, 128 GB)</td>\n",
       "      <td>₹10,499</td>\n",
       "    </tr>\n",
       "    <tr>\n",
       "      <th>13</th>\n",
       "      <td>vivo T3 Lite 5G (Majestic Black, 128 GB)</td>\n",
       "      <td>₹10,499</td>\n",
       "    </tr>\n",
       "    <tr>\n",
       "      <th>14</th>\n",
       "      <td>vivo T3 Lite 5G (Vibrant Green, 128 GB)</td>\n",
       "      <td>₹11,499</td>\n",
       "    </tr>\n",
       "    <tr>\n",
       "      <th>15</th>\n",
       "      <td>vivo T3 Lite 5G (Majestic Black, 128 GB)</td>\n",
       "      <td>₹11,499</td>\n",
       "    </tr>\n",
       "    <tr>\n",
       "      <th>16</th>\n",
       "      <td>vivo T3x 5G (Celestial Green, 128 GB)</td>\n",
       "      <td>₹12,999</td>\n",
       "    </tr>\n",
       "    <tr>\n",
       "      <th>17</th>\n",
       "      <td>vivo T3x 5G (Crimson Bliss, 128 GB)</td>\n",
       "      <td>₹14,499</td>\n",
       "    </tr>\n",
       "    <tr>\n",
       "      <th>18</th>\n",
       "      <td>Motorola Edge 50 Fusion (Marshmallow Blue, 128...</td>\n",
       "      <td>₹21,999</td>\n",
       "    </tr>\n",
       "    <tr>\n",
       "      <th>19</th>\n",
       "      <td>vivo T3x 5G (Crimson Bliss, 128 GB)</td>\n",
       "      <td>₹12,999</td>\n",
       "    </tr>\n",
       "    <tr>\n",
       "      <th>20</th>\n",
       "      <td>vivo T3x 5G (Sapphire Blue, 128 GB)</td>\n",
       "      <td>₹12,999</td>\n",
       "    </tr>\n",
       "    <tr>\n",
       "      <th>21</th>\n",
       "      <td>vivo T3x 5G (Sapphire Blue, 128 GB)</td>\n",
       "      <td>₹14,499</td>\n",
       "    </tr>\n",
       "    <tr>\n",
       "      <th>22</th>\n",
       "      <td>vivo T3x 5G (Celestial Green, 128 GB)</td>\n",
       "      <td>₹14,499</td>\n",
       "    </tr>\n",
       "    <tr>\n",
       "      <th>23</th>\n",
       "      <td>Motorola G85 5G (Cobalt Blue, 256 GB)</td>\n",
       "      <td>₹18,999</td>\n",
       "    </tr>\n",
       "  </tbody>\n",
       "</table>\n",
       "</div>"
      ],
      "text/plain": [
       "                                                title    price\n",
       "0     Nothing Phone (2a) 5G (Special Edition, 256 GB)  ₹26,999\n",
       "1   OPPO K12x 5G with 45W SUPERVOOC Charger In-The...  ₹12,999\n",
       "2                  REDMI 13C (Stardust Black, 128 GB)   ₹7,199\n",
       "3   Motorola Edge 50 Fusion (Marshmallow Blue, 256...  ₹23,999\n",
       "4              CMF by Nothing Phone 1 (Black, 128 GB)  ₹14,999\n",
       "5              vivo V30 Pro 5G (Andaman Blue, 256 GB)  ₹38,999\n",
       "6                      Apple iPhone 15 (Blue, 128 GB)  ₹58,999\n",
       "7            SAMSUNG Galaxy A14 5G (Dark Red, 128 GB)  ₹10,999\n",
       "8              Motorola G85 5G (Viva Magenta, 128 GB)  ₹16,999\n",
       "9                 REDMI 13C (Starfrost White, 128 GB)   ₹7,199\n",
       "10              Motorola G85 5G (Cobalt Blue, 128 GB)  ₹16,999\n",
       "11           Motorola g45 5G (Brilliant Blue, 128 GB)  ₹11,999\n",
       "12            vivo T3 Lite 5G (Vibrant Green, 128 GB)  ₹10,499\n",
       "13           vivo T3 Lite 5G (Majestic Black, 128 GB)  ₹10,499\n",
       "14            vivo T3 Lite 5G (Vibrant Green, 128 GB)  ₹11,499\n",
       "15           vivo T3 Lite 5G (Majestic Black, 128 GB)  ₹11,499\n",
       "16              vivo T3x 5G (Celestial Green, 128 GB)  ₹12,999\n",
       "17                vivo T3x 5G (Crimson Bliss, 128 GB)  ₹14,499\n",
       "18  Motorola Edge 50 Fusion (Marshmallow Blue, 128...  ₹21,999\n",
       "19                vivo T3x 5G (Crimson Bliss, 128 GB)  ₹12,999\n",
       "20                vivo T3x 5G (Sapphire Blue, 128 GB)  ₹12,999\n",
       "21                vivo T3x 5G (Sapphire Blue, 128 GB)  ₹14,499\n",
       "22              vivo T3x 5G (Celestial Green, 128 GB)  ₹14,499\n",
       "23              Motorola G85 5G (Cobalt Blue, 256 GB)  ₹18,999"
      ]
     },
     "execution_count": 7,
     "metadata": {},
     "output_type": "execute_result"
    }
   ],
   "source": [
    "df = pd.DataFrame(result)\n",
    "df"
   ]
  }
 ],
 "metadata": {
  "kernelspec": {
   "display_name": "base",
   "language": "python",
   "name": "python3"
  },
  "language_info": {
   "codemirror_mode": {
    "name": "ipython",
    "version": 3
   },
   "file_extension": ".py",
   "mimetype": "text/x-python",
   "name": "python",
   "nbconvert_exporter": "python",
   "pygments_lexer": "ipython3",
   "version": "3.12.3"
  }
 },
 "nbformat": 4,
 "nbformat_minor": 2
}
