{
 "cells": [
  {
   "cell_type": "markdown",
   "metadata": {},
   "source": [
    "#### Math Library\n",
    " - Math Module"
   ]
  },
  {
   "cell_type": "code",
   "execution_count": 1,
   "metadata": {},
   "outputs": [],
   "source": [
    "import math"
   ]
  },
  {
   "cell_type": "code",
   "execution_count": 2,
   "metadata": {},
   "outputs": [
    {
     "name": "stdout",
     "output_type": "stream",
     "text": [
      "3.0\n",
      "8.0\n",
      "120\n",
      "3.141592653589793\n",
      "2.718281828459045\n",
      "4\n",
      "24\n",
      "0.8414709848078965\n",
      "0.5403023058681398\n",
      "1.5574077246549023\n"
     ]
    }
   ],
   "source": [
    "print(math.sqrt(9))  #Square  \n",
    "print(math.pow(2,3)) #power\n",
    "print(math.factorial(5)) #Factorial \n",
    "print(math.pi)  #Pie Value\n",
    "print(math.e)#e = e constant returns the Eular's number: 2.718281828459045.\n",
    "print(math.gcd(12,8)) #Greatest common Division\n",
    "print(math.lcm(12,8)) #Lowest common multiplication\n",
    "print(math.sin(1)) #Sin(Trigonometry)\n",
    "print(math.cos(1)) #cos(Trigonometry)\n",
    "print(math.tan(1)) #tan(Trigonometry)"
   ]
  },
  {
   "cell_type": "code",
   "execution_count": 3,
   "metadata": {},
   "outputs": [
    {
     "name": "stdout",
     "output_type": "stream",
     "text": [
      "13\n"
     ]
    }
   ],
   "source": [
    "import math\n",
    "x = 12.8\n",
    "print(math.ceil(x))"
   ]
  },
  {
   "cell_type": "markdown",
   "metadata": {},
   "source": [
    "#### Random Library\n",
    " - Random Module"
   ]
  },
  {
   "cell_type": "code",
   "execution_count": 4,
   "metadata": {},
   "outputs": [],
   "source": [
    "from random import random, randint, choice, shuffle"
   ]
  },
  {
   "cell_type": "code",
   "execution_count": 5,
   "metadata": {},
   "outputs": [
    {
     "name": "stdout",
     "output_type": "stream",
     "text": [
      "get a random number between 0 and 1 0.4431578052723708\n",
      "get a random number between 1 and 100: 21\n",
      "get a random element from a list: 3\n",
      "shuffle a list: ['Bob', 'Richa', 'David', 'Eve', 'Alice']\n"
     ]
    }
   ],
   "source": [
    "print(\"get a random number between 0 and 1\",random()) #Returns a random float number between 0 and 1.\n",
    "print(\"get a random number between 1 and 100:\",randint(1, 100)) #A random number is generated between 1 and 100. This number can be 1 or 100.\n",
    "print(\"get a random element from a list:\", choice([1,2,3,4,5])) #Will give a random number from the list.\n",
    "names = ['Alice', 'Richa', 'David', 'Eve', 'Bob']\n",
    "shuffle(names)\n",
    "print('shuffle a list:',names) #Takes a sequence and returns the sequence in a random order.\n",
    "\n"
   ]
  },
  {
   "cell_type": "markdown",
   "metadata": {},
   "source": [
    "#### Datetime Library\n",
    " - Datetime Module"
   ]
  },
  {
   "cell_type": "code",
   "execution_count": 6,
   "metadata": {},
   "outputs": [],
   "source": [
    "from datetime import datetime as dt"
   ]
  },
  {
   "cell_type": "code",
   "execution_count": 7,
   "metadata": {},
   "outputs": [
    {
     "name": "stdout",
     "output_type": "stream",
     "text": [
      "current date and time: 2024-09-25 18:05:52.277086\n"
     ]
    }
   ],
   "source": [
    "print('current date and time:', dt.now()) # datetime function(to find current date and time both)"
   ]
  },
  {
   "cell_type": "code",
   "execution_count": 8,
   "metadata": {},
   "outputs": [
    {
     "name": "stdout",
     "output_type": "stream",
     "text": [
      "current Date: 2024-09-25\n",
      "Current Time: 18:05:52.322068\n"
     ]
    }
   ],
   "source": [
    "print('current Date:',dt.now().date()) # to find date only\n",
    "print(\"Current Time:\", dt.now().time()) #to find time only"
   ]
  },
  {
   "cell_type": "code",
   "execution_count": 9,
   "metadata": {},
   "outputs": [
    {
     "name": "stdout",
     "output_type": "stream",
     "text": [
      "current year: 2024\n",
      "current Month: 9\n",
      "current Day: 25\n",
      "current Hour: 18\n",
      "current Minute: 5\n",
      "current Second: 52\n",
      "current Microsecond: 354288\n",
      "current Weekday: 2\n"
     ]
    }
   ],
   "source": [
    "print(\"current year:\", dt.now().year) #to find current year\n",
    "print(\"current Month:\", dt.now().month) #to find current month\n",
    "print(\"current Day:\", dt.now().day) #to find current Day\n",
    "print(\"current Hour:\", dt.now().hour) #to find current Hour\n",
    "print(\"current Minute:\", dt.now().minute) #to find current Minute\n",
    "print(\"current Second:\", dt.now().second) #to find current Second\n",
    "print(\"current Microsecond:\", dt.now().microsecond) #to find current microsecond\n",
    "print(\"current Weekday:\", dt.now().weekday()) #to find current weekday\n"
   ]
  },
  {
   "cell_type": "markdown",
   "metadata": {},
   "source": [
    "#### Python Dates\n",
    " - %b   =   Month name,short version  Sep\n",
    " - %B   =   Month name,full version   September\n",
    " - %m   =   Month as a number 01-24    24\n",
    " - %y   =   Year, short version,without century  24\n",
    " - %Y    =  Year, full version  2024\n",
    " - %H   =   Hour 00-23  17\n",
    " - %I    =  Hour 00-12  05\n",
    " - %p   =   AM/PM  PM\n",
    " - %M   =   Minute 00-59    41"
   ]
  },
  {
   "cell_type": "code",
   "execution_count": 10,
   "metadata": {},
   "outputs": [
    {
     "name": "stdout",
     "output_type": "stream",
     "text": [
      "Date: 25/09/24\n"
     ]
    }
   ],
   "source": [
    "date = dt.strftime(dt.now(), '%d/%m/%y') # For formatting Date\n",
    "print(\"Date:\",date)"
   ]
  },
  {
   "cell_type": "code",
   "execution_count": 11,
   "metadata": {},
   "outputs": [
    {
     "name": "stdout",
     "output_type": "stream",
     "text": [
      "Time: 18/05/52\n"
     ]
    }
   ],
   "source": [
    "time = dt.strftime(dt.now(), '%H/%M/%S') # For formatting Time\n",
    "print(\"Time:\",time)"
   ]
  },
  {
   "cell_type": "markdown",
   "metadata": {},
   "source": [
    "#### OS Library\n",
    " - os Module"
   ]
  },
  {
   "cell_type": "code",
   "execution_count": 12,
   "metadata": {},
   "outputs": [],
   "source": [
    "import os"
   ]
  },
  {
   "cell_type": "code",
   "execution_count": 13,
   "metadata": {},
   "outputs": [
    {
     "name": "stdout",
     "output_type": "stream",
     "text": [
      "current working directory: c:\\Users\\USER\\Desktop\\Python Data Analytics\n"
     ]
    }
   ],
   "source": [
    "print('current working directory:', os.getcwd()) #In this we find out in which directory we are currently."
   ]
  },
  {
   "cell_type": "code",
   "execution_count": 14,
   "metadata": {},
   "outputs": [
    {
     "name": "stdout",
     "output_type": "stream",
     "text": [
      "files in the current directory: ['.git', 'Analysis', 'Conditions.ipynb', 'Data Structure', 'function.ipynb', 'Library.ipynb', 'loops.ipynb', 'Operators.ipynb', 'Turtle', 'Variables & Datatype.ipynb']\n",
      "10 files found\n"
     ]
    }
   ],
   "source": [
    "files = os.listdir()\n",
    "print('files in the current directory:', files)  # to find files and folder(did not find folders files.)\n",
    "print(len(files),\"files found\")"
   ]
  },
  {
   "cell_type": "code",
   "execution_count": 15,
   "metadata": {},
   "outputs": [
    {
     "name": "stdout",
     "output_type": "stream",
     "text": [
      "files in the specified directory: ['.git', 'Analysis', 'Conditions.ipynb', 'Data Structure', 'function.ipynb', 'Library.ipynb', 'loops.ipynb', 'Operators.ipynb', 'Turtle', 'Variables & Datatype.ipynb']\n"
     ]
    }
   ],
   "source": [
    "files = os.listdir(r\"c:\\Users\\USER\\Desktop\\Python Data Analytics\") # to find \n",
    "print('files in the specified directory:', files)"
   ]
  },
  {
   "cell_type": "code",
   "execution_count": 16,
   "metadata": {},
   "outputs": [
    {
     "data": {
      "text/plain": [
       "<generator object walk at 0x0000025EBBC08EA0>"
      ]
     },
     "execution_count": 16,
     "metadata": {},
     "output_type": "execute_result"
    }
   ],
   "source": [
    "os.walk(r\"c:\")"
   ]
  },
  {
   "cell_type": "code",
   "execution_count": 17,
   "metadata": {},
   "outputs": [
    {
     "name": "stdout",
     "output_type": "stream",
     "text": [
      "=> c:\n",
      "=> ['.git', 'Analysis', 'Data Structure', 'Turtle']\n",
      ">= ['Conditions.ipynb', 'function.ipynb', 'Library.ipynb', 'loops.ipynb', 'Operators.ipynb', 'Variables & Datatype.ipynb']\n",
      "=> c:.git\n",
      "=> ['hooks', 'info', 'logs', 'objects', 'refs']\n",
      ">= ['COMMIT_EDITMSG', 'config', 'description', 'FETCH_HEAD', 'HEAD', 'index', 'ORIG_HEAD']\n",
      "=> c:.git\\hooks\n",
      "=> []\n",
      ">= ['applypatch-msg.sample', 'commit-msg.sample', 'fsmonitor-watchman.sample', 'post-update.sample', 'pre-applypatch.sample', 'pre-commit.sample', 'pre-merge-commit.sample', 'pre-push.sample', 'pre-rebase.sample', 'pre-receive.sample', 'prepare-commit-msg.sample', 'push-to-checkout.sample', 'sendemail-validate.sample', 'update.sample']\n",
      "=> c:.git\\info\n",
      "=> []\n",
      ">= ['exclude']\n",
      "=> c:.git\\logs\n",
      "=> ['refs']\n",
      ">= ['HEAD']\n",
      "=> c:.git\\logs\\refs\n",
      "=> ['heads', 'remotes']\n",
      ">= []\n",
      "=> c:.git\\logs\\refs\\heads\n",
      "=> []\n",
      ">= ['main']\n",
      "=> c:.git\\logs\\refs\\remotes\n",
      "=> ['origin']\n",
      ">= []\n",
      "=> c:.git\\logs\\refs\\remotes\\origin\n",
      "=> []\n",
      ">= ['main']\n",
      "=> c:.git\\objects\n",
      "=> ['00', '08', '09', '0a', '0b', '0c', '0e', '11', '14', '15', '16', '19', '20', '23', '29', '31', '33', '3b', '45', '4a', '4e', '52', '54', '59', '5b', '61', '6f', '7a', '7c', '7e', '82', '84', '87', '8f', '94', '98', '9a', 'a0', 'a2', 'a3', 'b1', 'b7', 'b8', 'be', 'c0', 'c6', 'd1', 'db', 'dc', 'ec', 'ee', 'f3', 'f6', 'f7', 'f9', 'fa', 'fb', 'info', 'pack']\n",
      ">= []\n",
      "=> c:.git\\objects\\00\n",
      "=> []\n",
      ">= ['00107f76fdd5e17a37c29dd02f1c8174930fda']\n",
      "=> c:.git\\objects\\08\n",
      "=> []\n",
      ">= ['6b1c325cf8268ed04a09c677fbb23973dda9db']\n",
      "=> c:.git\\objects\\09\n",
      "=> []\n",
      ">= ['deb4d8ca1389295ae7d5f074adcd0c7365f38f']\n",
      "=> c:.git\\objects\\0a\n",
      "=> []\n",
      ">= ['07596238712a6bc217eb3928cae1fa0bc355b9']\n",
      "=> c:.git\\objects\\0b\n",
      "=> []\n",
      ">= ['a8a512410e62a6447e900d9cedb3010252a782']\n",
      "=> c:.git\\objects\\0c\n",
      "=> []\n",
      ">= ['01f4a1838520a19a2e140ee4cd26de78a55806']\n",
      "=> c:.git\\objects\\0e\n",
      "=> []\n",
      ">= ['b8dac2cce3c8851fba10afef3b5a77377e5a33']\n",
      "=> c:.git\\objects\\11\n",
      "=> []\n",
      ">= ['3dfce2d9146fd3e19470be0e82c4278261fc90']\n",
      "=> c:.git\\objects\\14\n",
      "=> []\n",
      ">= ['0e89a2c2559dc4a3d67687a1e08d03a7a97020']\n",
      "=> c:.git\\objects\\15\n",
      "=> []\n",
      ">= ['e0e3ad48a179ab4c7d30ba901baeacd246b02c']\n",
      "=> c:.git\\objects\\16\n",
      "=> []\n",
      ">= ['144e4b7de90dd6fd3950f89d6dad08af4278b6']\n",
      "=> c:.git\\objects\\19\n",
      "=> []\n",
      ">= ['b9f7e3439c594167754964bbddd2a9b8ec4f63']\n",
      "=> c:.git\\objects\\20\n",
      "=> []\n",
      ">= ['83d7c02a3ba3ebcfa1cd98a174ff8863210b5c']\n",
      "=> c:.git\\objects\\23\n",
      "=> []\n",
      ">= ['450925ad57943d139968917862eebc684efa9e']\n",
      "=> c:.git\\objects\\29\n",
      "=> []\n",
      ">= ['96b6cb1db76e71a0371e06a9cc71538196515a']\n",
      "=> c:.git\\objects\\31\n",
      "=> []\n",
      ">= ['c74700b503f91e281ee25159870f411e5d6bcf']\n",
      "=> c:.git\\objects\\33\n",
      "=> []\n",
      ">= ['4c571944d9d1dead9838bb7659722c21750edc']\n",
      "=> c:.git\\objects\\3b\n",
      "=> []\n",
      ">= ['bd6f1f7e91ed1f8331db5ccfec0c114ae2f35b']\n",
      "=> c:.git\\objects\\45\n",
      "=> []\n",
      ">= ['5ee6c5f1d1c0f3ccd5ad4722cb0221ba877ff0']\n",
      "=> c:.git\\objects\\4a\n",
      "=> []\n",
      ">= ['999bd47a43500a2c9606b8aad8e05fc7b33f25']\n",
      "=> c:.git\\objects\\4e\n",
      "=> []\n",
      ">= ['1c19476f15e8c7c05395cb28516535c985275d']\n",
      "=> c:.git\\objects\\52\n",
      "=> []\n",
      ">= ['b77a8455609df33ce1a78475611a7ac5fb39bd']\n",
      "=> c:.git\\objects\\54\n",
      "=> []\n",
      ">= ['36282b52f2fdbde232dbc6d09dbf2f2beb8721']\n",
      "=> c:.git\\objects\\59\n",
      "=> []\n",
      ">= ['9d438bbcf02ae1a82f7a3ef029e83eda5104c8']\n",
      "=> c:.git\\objects\\5b\n",
      "=> []\n",
      ">= ['9e0d02553fcf4737da72a99bf416a0b9b15c7e']\n",
      "=> c:.git\\objects\\61\n",
      "=> []\n",
      ">= ['3367414af4ea2e473702caf7a77336efd7eb8b']\n",
      "=> c:.git\\objects\\6f\n",
      "=> []\n",
      ">= ['4b80f007f8585edbca5fa2338fec1a2fed5af5']\n",
      "=> c:.git\\objects\\7a\n",
      "=> []\n",
      ">= ['2c26551d71dfaf8fb8cbd6a870114a235b4e0d', 'c63540b400e1dbb0cd22b4ce8d5609584086c1']\n",
      "=> c:.git\\objects\\7c\n",
      "=> []\n",
      ">= ['03e875d272fd75b169de96222c2a34ebeaf458', '38f1b3f2b0f8e62cf6464b635e38062ad7e710']\n",
      "=> c:.git\\objects\\7e\n",
      "=> []\n",
      ">= ['c4cac42c13010136609e6064d5f5cd37ea3d93']\n",
      "=> c:.git\\objects\\82\n",
      "=> []\n",
      ">= ['784d4c01d7b89a782ab03fdcd500bcf24f5c91', '8e94c0ddc2e4e1454c3b5a12297658bbc4ff1a']\n",
      "=> c:.git\\objects\\84\n",
      "=> []\n",
      ">= ['86e5f632f7b0f929c75d4ae55399166d397e55']\n",
      "=> c:.git\\objects\\87\n",
      "=> []\n",
      ">= ['2b7b4a517fd75de8ce2da4f1e87f5e1379e65e', 'd4acdcaa3e59a7de4cc2467d09c8327ca69c20']\n",
      "=> c:.git\\objects\\8f\n",
      "=> []\n",
      ">= ['f929b2e1c9c27cf4124900c01253fd002c2ce5']\n",
      "=> c:.git\\objects\\94\n",
      "=> []\n",
      ">= ['4fc924f7ebbb672fb6a20e7b8a7e30272bb898']\n",
      "=> c:.git\\objects\\98\n",
      "=> []\n",
      ">= ['a4611cebfe5eb26ea81dc8119345d1f243ac0e']\n",
      "=> c:.git\\objects\\9a\n",
      "=> []\n",
      ">= ['80b11ce95d0347f734e616e5f16bcf744b9abd']\n",
      "=> c:.git\\objects\\a0\n",
      "=> []\n",
      ">= ['886cdcb09c8fae02a5d99e157246b80beb5f88']\n",
      "=> c:.git\\objects\\a2\n",
      "=> []\n",
      ">= ['57d9af443bd8f0827efead187f55a1a80e08d9']\n",
      "=> c:.git\\objects\\a3\n",
      "=> []\n",
      ">= ['dd166adb14cba71c6c3e6066b07f4fa431e865']\n",
      "=> c:.git\\objects\\b1\n",
      "=> []\n",
      ">= ['eda83722ff83fdc6893e31e4ea03ce75391691']\n",
      "=> c:.git\\objects\\b7\n",
      "=> []\n",
      ">= ['b3e37e24abbe64febca6697225904a39fca9b5']\n",
      "=> c:.git\\objects\\b8\n",
      "=> []\n",
      ">= ['37cc4cdc1ea1c578fcc79a02210734fa57f91a']\n",
      "=> c:.git\\objects\\be\n",
      "=> []\n",
      ">= ['532ad035fd3760434d0c9b147b98b889da8e34']\n",
      "=> c:.git\\objects\\c0\n",
      "=> []\n",
      ">= ['f2037f1c1476e12de6848f492a99d2ef424781']\n",
      "=> c:.git\\objects\\c6\n",
      "=> []\n",
      ">= ['761a9a6e344c4f9465e603d1ea6e7b91449b70']\n",
      "=> c:.git\\objects\\d1\n",
      "=> []\n",
      ">= ['4615da0135397cab50232044f732ca11a5692d']\n",
      "=> c:.git\\objects\\db\n",
      "=> []\n",
      ">= ['789fcef8894a08032f24f02bc6be175deab529']\n",
      "=> c:.git\\objects\\dc\n",
      "=> []\n",
      ">= ['0f846dfa1bfe7845b06878ce4d9e04b1574d86']\n",
      "=> c:.git\\objects\\ec\n",
      "=> []\n",
      ">= ['c4ee71bbca3fc4f7d4209dde2931f7ef0d87da']\n",
      "=> c:.git\\objects\\ee\n",
      "=> []\n",
      ">= ['956f69a6582b6a7a1add77cea1b67e5affb740']\n",
      "=> c:.git\\objects\\f3\n",
      "=> []\n",
      ">= ['4e9b05b4d421ed7f6a79a1ff5d4bd0d63829b0', '8f881d4443932c1ea9bc44c4c93c30c86d43bb']\n",
      "=> c:.git\\objects\\f6\n",
      "=> []\n",
      ">= ['2e7abf5d61a047555f026e9bc1b5b10c61e29b']\n",
      "=> c:.git\\objects\\f7\n",
      "=> []\n",
      ">= ['f22fdb7ef01c07f7ba4c6a3588e25779172bbe']\n",
      "=> c:.git\\objects\\f9\n",
      "=> []\n",
      ">= ['43f09e36ef5360ce4ad4f2f222bcaf66256f68']\n",
      "=> c:.git\\objects\\fa\n",
      "=> []\n",
      ">= ['36d944146f2a41703efd0fa9d107d0732f2252']\n",
      "=> c:.git\\objects\\fb\n",
      "=> []\n",
      ">= ['87fb840f833aa39baafb10920c8ab55c36a165']\n",
      "=> c:.git\\objects\\info\n",
      "=> []\n",
      ">= []\n",
      "=> c:.git\\objects\\pack\n",
      "=> []\n",
      ">= []\n",
      "=> c:.git\\refs\n",
      "=> ['heads', 'remotes', 'tags']\n",
      ">= []\n",
      "=> c:.git\\refs\\heads\n",
      "=> []\n",
      ">= ['main']\n",
      "=> c:.git\\refs\\remotes\n",
      "=> ['origin']\n",
      ">= []\n",
      "=> c:.git\\refs\\remotes\\origin\n",
      "=> []\n",
      ">= ['main']\n",
      "=> c:.git\\refs\\tags\n",
      "=> []\n",
      ">= []\n",
      "=> c:Analysis\n",
      "=> []\n",
      ">= ['numpy.ipynb']\n",
      "=> c:Data Structure\n",
      "=> []\n",
      ">= ['Dictionary.ipynb', 'list.ipynb', 'Sets.ipynb', 'String.ipynb']\n",
      "=> c:Turtle\n",
      "=> []\n",
      ">= ['Colored Shapes.py', 'Concentric Circle.py', 'Concentric Squares.py', 'Decagon.py', 'Flowerwithpatel.py', 'Hexagon.py', 'Hexagonal.pattern.py', 'Octagon.py', 'Pentagon.py', 'Random flower pattern.py', 'Shellpatternwithcircle.py', 'square.py', 'Star Pattern.py']\n",
      "total files found: 113\n"
     ]
    }
   ],
   "source": [
    "total_files = 0\n",
    "for path, folders, files in os.walk(\"c:\"):\n",
    "    print('=>',path)\n",
    "    print('=>', folders)\n",
    "    print('>=', files)\n",
    "    total_files += len(files)\n",
    "print('total files found:',total_files)"
   ]
  },
  {
   "cell_type": "code",
   "execution_count": 18,
   "metadata": {},
   "outputs": [
    {
     "name": "stdout",
     "output_type": "stream",
     "text": [
      "folder exists\n"
     ]
    }
   ],
   "source": [
    "files = r\"c:\\Users\\USER\\Desktop\\Python Data Analytics\"\n",
    "if os.path.exists(files):\n",
    "    print(\"folder exists\") # To find folders exist or not.\n",
    "else:\n",
    "    print(\"folder does not exist\")"
   ]
  },
  {
   "cell_type": "code",
   "execution_count": 19,
   "metadata": {},
   "outputs": [
    {
     "name": "stdout",
     "output_type": "stream",
     "text": [
      "folder exists\n",
      "folder size: 4096 bytes\n",
      "folder size in kb: 4.0 KB\n",
      "folder size in MB: 0.00390625 MB\n",
      "folder size in GB: 3.814697265625e-06 GB\n"
     ]
    }
   ],
   "source": [
    "files =r\"c:\\Users\\USER\\Desktop\\Python Data Analytics\"\n",
    "if os.path.exists(files):\n",
    "    print(\"folder exists\")  # to find folder details\n",
    "    size = os.path.getsize(files)\n",
    "    print(\"folder size:\", size, \"bytes\")\n",
    "    print(\"folder size in kb:\",size / 1024, \"KB\")\n",
    "    print(\"folder size in MB:\", size / 1024 / 1024, 'MB')\n",
    "    print(\"folder size in GB:\", size / 1024 / 1024 / 1024, \"GB\")"
   ]
  }
 ],
 "metadata": {
  "kernelspec": {
   "display_name": "base",
   "language": "python",
   "name": "python3"
  },
  "language_info": {
   "codemirror_mode": {
    "name": "ipython",
    "version": 3
   },
   "file_extension": ".py",
   "mimetype": "text/x-python",
   "name": "python",
   "nbconvert_exporter": "python",
   "pygments_lexer": "ipython3",
   "version": "3.12.3"
  }
 },
 "nbformat": 4,
 "nbformat_minor": 2
}
