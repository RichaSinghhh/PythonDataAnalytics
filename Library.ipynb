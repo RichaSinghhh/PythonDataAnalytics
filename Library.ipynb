{
 "cells": [
  {
   "cell_type": "markdown",
   "metadata": {},
   "source": [
    "#### Math Library\n",
    " - Math Module"
   ]
  },
  {
   "cell_type": "code",
   "execution_count": 24,
   "metadata": {},
   "outputs": [],
   "source": [
    "import math"
   ]
  },
  {
   "cell_type": "code",
   "execution_count": 25,
   "metadata": {},
   "outputs": [
    {
     "name": "stdout",
     "output_type": "stream",
     "text": [
      "3.0\n",
      "8.0\n",
      "120\n",
      "3.141592653589793\n",
      "2.718281828459045\n",
      "4\n",
      "24\n",
      "0.8414709848078965\n",
      "0.5403023058681398\n",
      "1.5574077246549023\n"
     ]
    }
   ],
   "source": [
    "print(math.sqrt(9))  #Square  \n",
    "print(math.pow(2,3)) #power\n",
    "print(math.factorial(5)) #Factorial \n",
    "print(math.pi)  #Pie Value\n",
    "print(math.e)#e = e constant returns the Eular's number: 2.718281828459045.\n",
    "print(math.gcd(12,8)) #Greatest common Division\n",
    "print(math.lcm(12,8)) #Lowest common multiplication\n",
    "print(math.sin(1)) #Sin(Trigonometry)\n",
    "print(math.cos(1)) #cos(Trigonometry)\n",
    "print(math.tan(1)) #tan(Trigonometry)"
   ]
  },
  {
   "cell_type": "code",
   "execution_count": 26,
   "metadata": {},
   "outputs": [
    {
     "name": "stdout",
     "output_type": "stream",
     "text": [
      "13\n"
     ]
    }
   ],
   "source": [
    "import math\n",
    "x = 12.8\n",
    "print(math.ceil(x))"
   ]
  },
  {
   "cell_type": "markdown",
   "metadata": {},
   "source": [
    "#### Random Library\n",
    " - Random Module"
   ]
  },
  {
   "cell_type": "code",
   "execution_count": 27,
   "metadata": {},
   "outputs": [],
   "source": [
    "from random import random, randint, choice, shuffle"
   ]
  },
  {
   "cell_type": "code",
   "execution_count": 28,
   "metadata": {},
   "outputs": [
    {
     "name": "stdout",
     "output_type": "stream",
     "text": [
      "get a random number between 0 and 1 0.5632381013509136\n",
      "get a random number between 1 and 100: 81\n",
      "get a random element from a list: 5\n",
      "shuffle a list: ['Eve', 'Bob', 'Richa', 'David', 'Alice']\n"
     ]
    }
   ],
   "source": [
    "print(\"get a random number between 0 and 1\",random()) #Returns a random float number between 0 and 1.\n",
    "print(\"get a random number between 1 and 100:\",randint(1, 100)) #A random number is generated between 1 and 100. This number can be 1 or 100.\n",
    "print(\"get a random element from a list:\", choice([1,2,3,4,5])) #Will give a random number from the list.\n",
    "names = ['Alice', 'Richa', 'David', 'Eve', 'Bob']\n",
    "shuffle(names)\n",
    "print('shuffle a list:',names) #Takes a sequence and returns the sequence in a random order.\n",
    "\n"
   ]
  },
  {
   "cell_type": "markdown",
   "metadata": {},
   "source": [
    "#### Datetime Library\n",
    " - Datetime Module"
   ]
  },
  {
   "cell_type": "code",
   "execution_count": 29,
   "metadata": {},
   "outputs": [],
   "source": [
    "from datetime import datetime as dt"
   ]
  },
  {
   "cell_type": "code",
   "execution_count": 30,
   "metadata": {},
   "outputs": [
    {
     "name": "stdout",
     "output_type": "stream",
     "text": [
      "current date and time: 2024-09-24 20:46:14.897560\n"
     ]
    }
   ],
   "source": [
    "print('current date and time:', dt.now()) # datetime function(to find current date and time both)"
   ]
  },
  {
   "cell_type": "code",
   "execution_count": 31,
   "metadata": {},
   "outputs": [
    {
     "name": "stdout",
     "output_type": "stream",
     "text": [
      "current Date: 2024-09-24\n",
      "Current Time: 20:46:14.927360\n"
     ]
    }
   ],
   "source": [
    "print('current Date:',dt.now().date()) # to find date only\n",
    "print(\"Current Time:\", dt.now().time()) #to find time only"
   ]
  },
  {
   "cell_type": "code",
   "execution_count": 32,
   "metadata": {},
   "outputs": [
    {
     "name": "stdout",
     "output_type": "stream",
     "text": [
      "current year: 2024\n",
      "current Month: 9\n",
      "current Day: 24\n",
      "current Hour: 20\n",
      "current Minute: 46\n",
      "current Second: 15\n",
      "current Microsecond: 120469\n",
      "current Weekday: 1\n"
     ]
    }
   ],
   "source": [
    "print(\"current year:\", dt.now().year) #to find current year\n",
    "print(\"current Month:\", dt.now().month) #to find current month\n",
    "print(\"current Day:\", dt.now().day) #to find current Day\n",
    "print(\"current Hour:\", dt.now().hour) #to find current Hour\n",
    "print(\"current Minute:\", dt.now().minute) #to find current Minute\n",
    "print(\"current Second:\", dt.now().second) #to find current Second\n",
    "print(\"current Microsecond:\", dt.now().microsecond) #to find current microsecond\n",
    "print(\"current Weekday:\", dt.now().weekday()) #to find current weekday\n"
   ]
  },
  {
   "cell_type": "markdown",
   "metadata": {},
   "source": [
    "#### Python Dates\n",
    " - %b   =   Month name,short version  Sep\n",
    " - %B   =   Month name,full version   September\n",
    " - %m   =   Month as a number 01-24    24\n",
    " - %y   =   Year, short version,without century  24\n",
    " - %Y    =  Year, full version  2024\n",
    " - %H   =   Hour 00-23  17\n",
    " - %I    =  Hour 00-12  05\n",
    " - %p   =   AM/PM  PM\n",
    " - %M   =   Minute 00-59    41"
   ]
  },
  {
   "cell_type": "code",
   "execution_count": 33,
   "metadata": {},
   "outputs": [
    {
     "name": "stdout",
     "output_type": "stream",
     "text": [
      "Date: 24/09/24\n"
     ]
    }
   ],
   "source": [
    "date = dt.strftime(dt.now(), '%d/%m/%y') # For formatting Date\n",
    "print(\"Date:\",date)"
   ]
  },
  {
   "cell_type": "code",
   "execution_count": 34,
   "metadata": {},
   "outputs": [
    {
     "name": "stdout",
     "output_type": "stream",
     "text": [
      "Time: 20/46/15\n"
     ]
    }
   ],
   "source": [
    "time = dt.strftime(dt.now(), '%H/%M/%S') # For formatting Time\n",
    "print(\"Time:\",time)"
   ]
  },
  {
   "cell_type": "markdown",
   "metadata": {},
   "source": [
    "#### OS Library\n",
    " - os Module"
   ]
  },
  {
   "cell_type": "code",
   "execution_count": 35,
   "metadata": {},
   "outputs": [],
   "source": [
    "import os"
   ]
  },
  {
   "cell_type": "code",
   "execution_count": 36,
   "metadata": {},
   "outputs": [
    {
     "name": "stdout",
     "output_type": "stream",
     "text": [
      "current working directory: c:\\Users\\USER\\Desktop\\Python Data Analytics\n"
     ]
    }
   ],
   "source": [
    "print('current working directory:', os.getcwd()) #In this we find out in which directory we are currently.l"
   ]
  },
  {
   "cell_type": "code",
   "execution_count": 37,
   "metadata": {},
   "outputs": [
    {
     "name": "stdout",
     "output_type": "stream",
     "text": [
      "files in the current directory: ['.git', 'Conditions.ipynb', 'Data Structure', 'function.ipynb', 'Library.ipynb', 'Loops', 'Operators.ipynb', 'Turtle', 'Variables & Datatype.ipynb']\n",
      "9 files found\n"
     ]
    }
   ],
   "source": [
    "files = os.listdir()\n",
    "print('files in the current directory:', files)\n",
    "print(len(files),\"files found\")"
   ]
  },
  {
   "cell_type": "code",
   "execution_count": 39,
   "metadata": {},
   "outputs": [
    {
     "ename": "FileNotFoundError",
     "evalue": "[WinError 3] The system cannot find the path specified: 'c:\\\\Users\\\\USER\\\\Desktop\\\\Python'",
     "output_type": "error",
     "traceback": [
      "\u001b[1;31m---------------------------------------------------------------------------\u001b[0m",
      "\u001b[1;31mFileNotFoundError\u001b[0m                         Traceback (most recent call last)",
      "Cell \u001b[1;32mIn[39], line 1\u001b[0m\n\u001b[1;32m----> 1\u001b[0m files \u001b[38;5;241m=\u001b[39m \u001b[43mos\u001b[49m\u001b[38;5;241;43m.\u001b[39;49m\u001b[43mlistdir\u001b[49m\u001b[43m(\u001b[49m\u001b[38;5;124;43mr\u001b[39;49m\u001b[38;5;124;43m\"\u001b[39;49m\u001b[38;5;124;43mc:\u001b[39;49m\u001b[38;5;124;43m\\\u001b[39;49m\u001b[38;5;124;43mUsers\u001b[39;49m\u001b[38;5;124;43m\\\u001b[39;49m\u001b[38;5;124;43mUSER\u001b[39;49m\u001b[38;5;124;43m\\\u001b[39;49m\u001b[38;5;124;43mDesktop\u001b[39;49m\u001b[38;5;124;43m\\\u001b[39;49m\u001b[38;5;124;43mPython\u001b[39;49m\u001b[38;5;124;43m\"\u001b[39;49m\u001b[43m)\u001b[49m\n\u001b[0;32m      2\u001b[0m \u001b[38;5;28mprint\u001b[39m(\u001b[38;5;124m'\u001b[39m\u001b[38;5;124mfiles in the specified directory:\u001b[39m\u001b[38;5;124m'\u001b[39m, files)\n",
      "\u001b[1;31mFileNotFoundError\u001b[0m: [WinError 3] The system cannot find the path specified: 'c:\\\\Users\\\\USER\\\\Desktop\\\\Python'"
     ]
    }
   ],
   "source": [
    "files = os.listdir(r\"c:\\Users\\USER\\Desktop\\Python\")\n",
    "print('files in the specified directory:', files)"
   ]
  },
  {
   "cell_type": "code",
   "execution_count": 22,
   "metadata": {},
   "outputs": [
    {
     "data": {
      "text/plain": [
       "<generator object walk at 0x000001ADDD0A0A50>"
      ]
     },
     "execution_count": 22,
     "metadata": {},
     "output_type": "execute_result"
    }
   ],
   "source": [
    "os.walk(r\"c:\")"
   ]
  },
  {
   "cell_type": "code",
   "execution_count": 23,
   "metadata": {},
   "outputs": [
    {
     "name": "stdout",
     "output_type": "stream",
     "text": [
      "total files found: 0\n"
     ]
    }
   ],
   "source": [
    "total_files = 0\n",
    "for path, folders, files in os.walk(\"c\"):\n",
    "    print('=>',path)\n",
    "    print('=>', folders)\n",
    "    print('>=', files)\n",
    "    total_files += len(files)\n",
    "print('total files found:',total_files)"
   ]
  }
 ],
 "metadata": {
  "kernelspec": {
   "display_name": "base",
   "language": "python",
   "name": "python3"
  },
  "language_info": {
   "codemirror_mode": {
    "name": "ipython",
    "version": 3
   },
   "file_extension": ".py",
   "mimetype": "text/x-python",
   "name": "python",
   "nbconvert_exporter": "python",
   "pygments_lexer": "ipython3",
   "version": "3.12.3"
  }
 },
 "nbformat": 4,
 "nbformat_minor": 2
}
