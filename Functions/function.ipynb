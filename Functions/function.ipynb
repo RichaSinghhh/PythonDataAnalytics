{
 "cells": [
  {
   "cell_type": "markdown",
   "metadata": {},
   "source": [
    "### Types of Functions\n",
    "- User Defined Functions\n",
    "- Built in Function\n"
   ]
  },
  {
   "cell_type": "code",
   "execution_count": 1,
   "metadata": {},
   "outputs": [],
   "source": [
    "#Syntax of non-parameterized Function\n",
    "# def function_name():\n",
    "#     statements\n",
    "\n",
    "\n",
    "#function call\n",
    "# function_name()"
   ]
  },
  {
   "cell_type": "code",
   "execution_count": 2,
   "metadata": {},
   "outputs": [
    {
     "name": "stdout",
     "output_type": "stream",
     "text": [
      "My first user defined function\n"
     ]
    }
   ],
   "source": [
    "def my_func():\n",
    "    print(\"My first user defined function\")\n",
    "\n",
    "my_func() #function call"
   ]
  },
  {
   "cell_type": "code",
   "execution_count": 4,
   "metadata": {},
   "outputs": [
    {
     "name": "stdout",
     "output_type": "stream",
     "text": [
      "My first user defined function\n",
      "My first user defined function\n",
      "My first user defined function\n"
     ]
    }
   ],
   "source": [
    "my_func()\n",
    "my_func()\n",
    "my_func()"
   ]
  },
  {
   "cell_type": "code",
   "execution_count": 5,
   "metadata": {},
   "outputs": [],
   "source": [
    "#Parameterized Function\n",
    "def sum (a,b):\n",
    "    print(a+b)"
   ]
  },
  {
   "cell_type": "code",
   "execution_count": 6,
   "metadata": {},
   "outputs": [
    {
     "name": "stdout",
     "output_type": "stream",
     "text": [
      "30\n"
     ]
    }
   ],
   "source": [
    "sum (10,20)"
   ]
  },
  {
   "cell_type": "code",
   "execution_count": 7,
   "metadata": {},
   "outputs": [
    {
     "name": "stdout",
     "output_type": "stream",
     "text": [
      "300\n"
     ]
    }
   ],
   "source": [
    "sum (100,200)"
   ]
  },
  {
   "cell_type": "code",
   "execution_count": 18,
   "metadata": {},
   "outputs": [
    {
     "name": "stdout",
     "output_type": "stream",
     "text": [
      "314.0\n"
     ]
    }
   ],
   "source": [
    "def are_of_circle(r):\n",
    "    print(3.14*r*r)\n",
    "\n",
    "are_of_circle(10)"
   ]
  },
  {
   "cell_type": "code",
   "execution_count": 19,
   "metadata": {},
   "outputs": [
    {
     "name": "stdout",
     "output_type": "stream",
     "text": [
      "20.0\n",
      "None\n"
     ]
    }
   ],
   "source": [
    "# void function, not returning the value\n",
    "def avg (a,b,c):\n",
    "    print((a+b+c)/3)\n",
    "\n",
    "average = avg(10,20,30)\n",
    "print(average)"
   ]
  },
  {
   "cell_type": "code",
   "execution_count": 20,
   "metadata": {},
   "outputs": [
    {
     "name": "stdout",
     "output_type": "stream",
     "text": [
      "20.0\n"
     ]
    }
   ],
   "source": [
    "# non-void function, returning the value\n",
    "def avg (a,b,c):\n",
    "    return (a+b+c)/3\n",
    "\n",
    "average = avg(10,20,30)\n",
    "print(average)"
   ]
  },
  {
   "cell_type": "code",
   "execution_count": 36,
   "metadata": {},
   "outputs": [
    {
     "name": "stdout",
     "output_type": "stream",
     "text": [
      "Ramji\n",
      "Richaji\n"
     ]
    }
   ],
   "source": [
    "#using void function\n",
    "def name (name):\n",
    "    print(name + \"ji\")\n",
    "name(\"Ram\")\n",
    "name(\"Richa\")\n"
   ]
  },
  {
   "cell_type": "code",
   "execution_count": 40,
   "metadata": {},
   "outputs": [
    {
     "name": "stdout",
     "output_type": "stream",
     "text": [
      "I am from Nepal\n",
      "I am from USA \n",
      "I am from India\n"
     ]
    }
   ],
   "source": [
    "#default parameter functions\n",
    "def my_country(country = \"India\"):\n",
    "    print(\"I am from \" + country)\n",
    "\n",
    "my_country(\"Nepal\")\n",
    "my_country(\"USA \")\n",
    "my_country()"
   ]
  },
  {
   "cell_type": "code",
   "execution_count": 41,
   "metadata": {},
   "outputs": [
    {
     "name": "stdout",
     "output_type": "stream",
     "text": [
      "Apple\n",
      "Banana\n",
      "Orange\n",
      "Grapes\n"
     ]
    }
   ],
   "source": [
    "def food_option(food):\n",
    "    for i in food:\n",
    "        print(i)\n",
    "\n",
    "fruits = [\"Apple\",\"Banana\",\"Orange\",\"Grapes\"]\n",
    "food_option(fruits)"
   ]
  },
  {
   "cell_type": "code",
   "execution_count": 49,
   "metadata": {},
   "outputs": [
    {
     "name": "stdout",
     "output_type": "stream",
     "text": [
      "Even\n"
     ]
    }
   ],
   "source": [
    "def even_odd(num):\n",
    "    if num%2 == 0:\n",
    "        print(\"Even\")\n",
    "    else:\n",
    "        print(\"odd\")\n",
    "\n",
    "num = int(input(\"Enter a number:\"))\n",
    "even_odd(num)"
   ]
  }
 ],
 "metadata": {
  "kernelspec": {
   "display_name": "base",
   "language": "python",
   "name": "python3"
  },
  "language_info": {
   "codemirror_mode": {
    "name": "ipython",
    "version": 3
   },
   "file_extension": ".py",
   "mimetype": "text/x-python",
   "name": "python",
   "nbconvert_exporter": "python",
   "pygments_lexer": "ipython3",
   "version": "3.12.3"
  }
 },
 "nbformat": 4,
 "nbformat_minor": 2
}
